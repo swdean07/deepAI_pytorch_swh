{
 "cells": [
  {
   "cell_type": "code",
   "execution_count": null,
   "id": "initial_id",
   "metadata": {
    "collapsed": true
   },
   "outputs": [],
   "source": [
    "#AI_머신러닝_딥러닝_개발 #미니실습\n",
    "\n",
    "# MLP,\n",
    "# 다층 신경망을 이용해서,\n",
    "# 간단한\n",
    "# 모델을 만들어서,\n",
    "# 샘플 모델,\n",
    "# class Regressor(nn.Module):\n",
    "# def __init__(self):\n",
    "# super().__init__() # 모델 연산 정의\n",
    "# self.fc1 = nn.Linear(13, 50) # 입력층(13) -> 은닉층1(50)으로 가는 연산\n",
    "# self.fc2 = nn.Linear(50, 30) # 은닉층1(50) -> 은닉층2(30)으로 가는 연산\n",
    "# self.fc3 = nn.Linear(30, 1) # 은닉층2(30) -> 출력층(1)으로 가는 연산\n",
    "# self.dropout = nn.Dropout(0.5) # 연산이 될 때마다 50%의 비율로 랜덤하게 노드를 없앤다.\n",
    "# 활용을 해서,\n",
    "\n",
    "\n",
    "# 활성화 함수 : ReLu\n",
    "# 손실 함수 : MSE ,\n",
    "# 최적화 함수 : Adam\n",
    "# 은닉층은, 2계층 정도 구성을해서,\n",
    "# 학습은 약 1000회,\n",
    "# 배치 : 32개 정도,\n",
    "#\n",
    "# 와인 품질 등급 측정은 모델을 만들고,\n",
    "# 손실값, 예측값 그래프 확인."
   ]
  },
  {
   "metadata": {
    "ExecuteTime": {
     "end_time": "2025-03-18T03:16:32.884280Z",
     "start_time": "2025-03-18T03:16:32.870289Z"
    }
   },
   "cell_type": "code",
   "source": [
    "import torch\n",
    "import torch.nn as nn\n",
    "import torch.optim as optim\n",
    "from torch.utils.data import DataLoader, TensorDataset\n",
    "import pandas as pd\n",
    "import numpy as np\n",
    "import matplotlib.pyplot as plt\n",
    "from sklearn.model_selection import train_test_split\n",
    "from sklearn.preprocessing import StandardScaler\n",
    "from sklearn.metrics import confusion_matrix"
   ],
   "id": "204f32ef6736de0f",
   "outputs": [],
   "execution_count": 3
  },
  {
   "metadata": {
    "ExecuteTime": {
     "end_time": "2025-03-18T03:16:42.620290Z",
     "start_time": "2025-03-18T03:16:42.405964Z"
    }
   },
   "cell_type": "code",
   "source": [
    "# 데이터 로드 (와인 데이터셋 예제)\n",
    "from sklearn.datasets import load_wine\n",
    "data = load_wine()\n",
    "X = data.data\n",
    "y = data.target.astype(np.float32)  # 회귀 문제를 위해 float 변환"
   ],
   "id": "86488e99db55d5ad",
   "outputs": [],
   "execution_count": 4
  },
  {
   "metadata": {
    "ExecuteTime": {
     "end_time": "2025-03-18T03:16:58.182510Z",
     "start_time": "2025-03-18T03:16:58.157487Z"
    }
   },
   "cell_type": "code",
   "source": [
    "# 데이터 전처리\n",
    "scaler = StandardScaler()\n",
    "X = scaler.fit_transform(X)\n",
    "X_train, X_test, y_train, y_test = train_test_split(X, y, test_size=0.2, random_state=42)"
   ],
   "id": "cad84774655fcf72",
   "outputs": [],
   "execution_count": 5
  },
  {
   "metadata": {
    "ExecuteTime": {
     "end_time": "2025-03-18T03:17:06.711235Z",
     "start_time": "2025-03-18T03:17:06.689266Z"
    }
   },
   "cell_type": "code",
   "source": [
    "# Tensor 변환\n",
    "X_train_tensor = torch.tensor(X_train, dtype=torch.float32)\n",
    "X_test_tensor = torch.tensor(X_test, dtype=torch.float32)\n",
    "y_train_tensor = torch.tensor(y_train, dtype=torch.float32).view(-1, 1)\n",
    "y_test_tensor = torch.tensor(y_test, dtype=torch.float32).view(-1, 1)"
   ],
   "id": "e3491c2925a2785f",
   "outputs": [],
   "execution_count": 6
  },
  {
   "metadata": {
    "ExecuteTime": {
     "end_time": "2025-03-18T03:17:14.245639Z",
     "start_time": "2025-03-18T03:17:14.232139Z"
    }
   },
   "cell_type": "code",
   "source": [
    "# 데이터 로더 생성\n",
    "train_dataset = TensorDataset(X_train_tensor, y_train_tensor)\n",
    "test_dataset = TensorDataset(X_test_tensor, y_test_tensor)\n",
    "train_loader = DataLoader(train_dataset, batch_size=32, shuffle=True)\n",
    "test_loader = DataLoader(test_dataset, batch_size=32, shuffle=False)"
   ],
   "id": "f570880c20bdff7b",
   "outputs": [],
   "execution_count": 7
  },
  {
   "metadata": {
    "ExecuteTime": {
     "end_time": "2025-03-18T03:17:22.950512Z",
     "start_time": "2025-03-18T03:17:22.937514Z"
    }
   },
   "cell_type": "code",
   "source": [
    "# MLP 모델 정의\n",
    "class Regressor(nn.Module):\n",
    "    def __init__(self):\n",
    "        super().__init__()\n",
    "        self.fc1 = nn.Linear(13, 50)\n",
    "        self.fc2 = nn.Linear(50, 30)\n",
    "        self.fc3 = nn.Linear(30, 1)\n",
    "        self.dropout = nn.Dropout(0.5)\n",
    "        self.relu = nn.ReLU()\n",
    "\n",
    "    def forward(self, x):\n",
    "        x = self.relu(self.fc1(x))\n",
    "        x = self.dropout(x)\n",
    "        x = self.relu(self.fc2(x))\n",
    "        x = self.dropout(x)\n",
    "        x = self.fc3(x)\n",
    "        return x"
   ],
   "id": "fc2dc0132b5a5096",
   "outputs": [],
   "execution_count": 8
  },
  {
   "metadata": {
    "ExecuteTime": {
     "end_time": "2025-03-18T03:17:34.673783Z",
     "start_time": "2025-03-18T03:17:32.944457Z"
    }
   },
   "cell_type": "code",
   "source": [
    "# 모델 초기화\n",
    "model = Regressor()\n",
    "criterion = nn.MSELoss()\n",
    "optimizer = optim.Adam(model.parameters(), lr=0.001)"
   ],
   "id": "67c9cee4b9a9cdcd",
   "outputs": [],
   "execution_count": 9
  },
  {
   "metadata": {
    "ExecuteTime": {
     "end_time": "2025-03-18T03:17:52.930579Z",
     "start_time": "2025-03-18T03:17:45.603581Z"
    }
   },
   "cell_type": "code",
   "source": [
    "# 학습\n",
    "epochs = 1000\n",
    "losses = []\n",
    "for epoch in range(epochs):\n",
    "    model.train()\n",
    "    epoch_loss = 0\n",
    "    for batch_X, batch_y in train_loader:\n",
    "        optimizer.zero_grad()\n",
    "        outputs = model(batch_X)\n",
    "        loss = criterion(outputs, batch_y)\n",
    "        loss.backward()\n",
    "        optimizer.step()\n",
    "        epoch_loss += loss.item()\n",
    "    losses.append(epoch_loss / len(train_loader))\n",
    "    if epoch % 100 == 0:\n",
    "        print(f\"Epoch {epoch}/{epochs}, Loss: {epoch_loss / len(train_loader):.4f}\")"
   ],
   "id": "c739fe33c52ea9a",
   "outputs": [
    {
     "name": "stdout",
     "output_type": "stream",
     "text": [
      "Epoch 0/1000, Loss: 1.2501\n",
      "Epoch 100/1000, Loss: 0.1986\n",
      "Epoch 200/1000, Loss: 0.1147\n",
      "Epoch 300/1000, Loss: 0.0941\n",
      "Epoch 400/1000, Loss: 0.1017\n",
      "Epoch 500/1000, Loss: 0.0595\n",
      "Epoch 600/1000, Loss: 0.0603\n",
      "Epoch 700/1000, Loss: 0.0646\n",
      "Epoch 800/1000, Loss: 0.0619\n",
      "Epoch 900/1000, Loss: 0.0320\n"
     ]
    }
   ],
   "execution_count": 10
  },
  {
   "metadata": {
    "ExecuteTime": {
     "end_time": "2025-03-18T03:18:55.059879Z",
     "start_time": "2025-03-18T03:18:54.892887Z"
    }
   },
   "cell_type": "code",
   "source": [
    "# 손실 그래프\n",
    "plt.plot(losses)\n",
    "plt.xlabel('Epochs')\n",
    "plt.ylabel('Loss')\n",
    "plt.title('Training Loss over Epochs')\n",
    "plt.show()"
   ],
   "id": "c43b330c7a04c1f0",
   "outputs": [
    {
     "data": {
      "text/plain": [
       "<Figure size 640x480 with 1 Axes>"
      ],
      "image/png": "[encoded data removed]"
     },
     "metadata": {},
     "output_type": "display_data"
    }
   ],
   "execution_count": 11
  },
  {
   "metadata": {
    "ExecuteTime": {
     "end_time": "2025-03-18T03:19:08.402603Z",
     "start_time": "2025-03-18T03:19:08.387603Z"
    }
   },
   "cell_type": "code",
   "source": [
    "# 모델 평가\n",
    "model.eval()\n",
    "preds = []\n",
    "true_vals = []\n",
    "with torch.no_grad():\n",
    "    for batch_X, batch_y in test_loader:\n",
    "        pred = model(batch_X)\n",
    "        preds.extend(pred.numpy().flatten())\n",
    "        true_vals.extend(batch_y.numpy().flatten())"
   ],
   "id": "9ac98d1f9b3af3a6",
   "outputs": [],
   "execution_count": 12
  },
  {
   "metadata": {
    "ExecuteTime": {
     "end_time": "2025-03-18T03:19:15.510436Z",
     "start_time": "2025-03-18T03:19:15.349437Z"
    }
   },
   "cell_type": "code",
   "source": [
    "# 예측값 시각화\n",
    "plt.scatter(true_vals, preds, alpha=0.5)\n",
    "plt.xlabel('True Values')\n",
    "plt.ylabel('Predicted Values')\n",
    "plt.title('True vs Predicted Wine Quality')\n",
    "plt.show()"
   ],
   "id": "2b098793a726a45e",
   "outputs": [
    {
     "data": {
      "text/plain": [
       "<Figure size 640x480 with 1 Axes>"
      ],
      "image/png": "[encoded data removed]"
     },
     "metadata": {},
     "output_type": "display_data"
    }
   ],
   "execution_count": 13
  },
  {
   "metadata": {
    "ExecuteTime": {
     "end_time": "2025-03-18T03:20:04.164647Z",
     "start_time": "2025-03-18T03:20:04.150642Z"
    }
   },
   "cell_type": "code",
   "source": [
    "# 혼동 행렬 계산 및 출력\n",
    "pred_classes = np.round(preds).astype(int)\n",
    "true_classes = np.round(true_vals).astype(int)\n",
    "cm = confusion_matrix(true_classes, pred_classes)\n",
    "print(\"Confusion Matrix:\")\n",
    "print(cm)"
   ],
   "id": "e7413add9c10c486",
   "outputs": [
    {
     "name": "stdout",
     "output_type": "stream",
     "text": [
      "Confusion Matrix:\n",
      "[[14  0  0]\n",
      " [ 0 14  0]\n",
      " [ 0  0  8]]\n"
     ]
    }
   ],
   "execution_count": 14
  }
 ],
 "metadata": {
  "kernelspec": {
   "display_name": "Python 3",
   "language": "python",
   "name": "python3"
  },
  "language_info": {
   "codemirror_mode": {
    "name": "ipython",
    "version": 2
   },
   "file_extension": ".py",
   "mimetype": "text/x-python",
   "name": "python",
   "nbconvert_exporter": "python",
   "pygments_lexer": "ipython2",
   "version": "2.7.6"
  }
 },
 "nbformat": 4,
 "nbformat_minor": 5
}
