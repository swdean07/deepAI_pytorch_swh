{
 "nbformat": 4,
 "nbformat_minor": 0,
 "metadata": {
  "kernelspec": {
   "display_name": "Python 3",
   "language": "python",
   "name": "python3"
  },
  "language_info": {
   "codemirror_mode": {
    "name": "ipython",
    "version": 3
   },
   "file_extension": ".py",
   "mimetype": "text/x-python",
   "name": "python",
   "nbconvert_exporter": "python",
   "pygments_lexer": "ipython3",
   "version": "3.7.4"
  },
  "colab": {
   "name": "4.2 Autograd.ipynb",
   "provenance": [],
   "collapsed_sections": []
  }
 },
 "cells": [
  {
   "cell_type": "markdown",
   "metadata": {
    "id": "0nte_1dbsib0"
   },
   "source": [
    "# 4. 파이토치 기본\n",
    "## 4.2 역전파 - 선형회귀식"
   ]
  },
  {
   "cell_type": "code",
   "metadata": {
    "id": "CvAd2lVksg6h",
    "executionInfo": {
     "status": "ok",
     "timestamp": 1636291733513,
     "user_tz": -60,
     "elapsed": 26528,
     "user": {
      "displayName": "딥러닝호형",
      "photoUrl": "https://lh3.googleusercontent.com/a-/AOh14GhhDjkGnBZ0JW1k2J6y2lNP9dJeVbQWPuZEpfUc=s64",
      "userId": "11263585794403583722"
     }
    },
    "jupyter": {
     "is_executing": true
    }
   },
   "source": [
    "import torch\n",
    "from matplotlib import pyplot as plt"
   ],
   "outputs": [],
   "execution_count": null
  },
  {
   "cell_type": "code",
   "metadata": {
    "id": "RI4IF-36sg6i",
    "executionInfo": {
     "status": "ok",
     "timestamp": 1636291826831,
     "user_tz": -60,
     "elapsed": 234,
     "user": {
      "displayName": "딥러닝호형",
      "photoUrl": "https://lh3.googleusercontent.com/a-/AOh14GhhDjkGnBZ0JW1k2J6y2lNP9dJeVbQWPuZEpfUc=s64",
      "userId": "11263585794403583722"
     }
    },
    "ExecuteTime": {
     "end_time": "2025-03-17T02:44:25.242402Z",
     "start_time": "2025-03-17T02:44:25.221401Z"
    }
   },
   "source": [
    "x = torch.FloatTensor(range(5)).unsqueeze(1)\n",
    "y = 2*x + torch.rand(5,1)\n",
    "num_features = x.shape[1]\n",
    "print(x)\n",
    "print(y)"
   ],
   "outputs": [
    {
     "name": "stdout",
     "output_type": "stream",
     "text": [
      "tensor([[0.],\n",
      "        [1.],\n",
      "        [2.],\n",
      "        [3.],\n",
      "        [4.]])\n",
      "tensor([[0.8993],\n",
      "        [2.6746],\n",
      "        [4.6778],\n",
      "        [6.8891],\n",
      "        [8.9825]])\n"
     ]
    }
   ],
   "execution_count": 13
  },
  {
   "cell_type": "code",
   "metadata": {
    "id": "zi9Y3morsg6i",
    "colab": {
     "base_uri": "https://localhost:8080/"
    },
    "executionInfo": {
     "status": "ok",
     "timestamp": 1636291889327,
     "user_tz": -60,
     "elapsed": 327,
     "user": {
      "displayName": "딥러닝호형",
      "photoUrl": "https://lh3.googleusercontent.com/a-/AOh14GhhDjkGnBZ0JW1k2J6y2lNP9dJeVbQWPuZEpfUc=s64",
      "userId": "11263585794403583722"
     }
    },
    "outputId": "fc95a5bb-4cd2-4045-f51c-f286312dbc94",
    "ExecuteTime": {
     "end_time": "2025-03-17T02:44:25.289164Z",
     "start_time": "2025-03-17T02:44:25.274166Z"
    }
   },
   "source": [
    "print(x.shape, y.shape)"
   ],
   "outputs": [
    {
     "name": "stdout",
     "output_type": "stream",
     "text": [
      "torch.Size([5, 1]) torch.Size([5, 1])\n"
     ]
    }
   ],
   "execution_count": 14
  },
  {
   "cell_type": "code",
   "metadata": {
    "id": "hSrvaDPUsg6j",
    "executionInfo": {
     "status": "ok",
     "timestamp": 1636291891579,
     "user_tz": -60,
     "elapsed": 238,
     "user": {
      "displayName": "딥러닝호형",
      "photoUrl": "https://lh3.googleusercontent.com/a-/AOh14GhhDjkGnBZ0JW1k2J6y2lNP9dJeVbQWPuZEpfUc=s64",
      "userId": "11263585794403583722"
     }
    },
    "ExecuteTime": {
     "end_time": "2025-03-17T02:44:25.353165Z",
     "start_time": "2025-03-17T02:44:25.339164Z"
    }
   },
   "source": [
    "#dtype = torch.FloatTensor\n",
    "#W = Variable(torch.randn(num_features, 1), requires_grad=True)\n",
    "#b = Variable(torch.randn(1), requires_grad=True)\n",
    "w = torch.randn(num_features, 1, requires_grad=True)\n",
    "b = torch.randn(1, requires_grad=True)"
   ],
   "outputs": [],
   "execution_count": 15
  },
  {
   "cell_type": "code",
   "metadata": {
    "id": "_BWTlUFHsg6j",
    "executionInfo": {
     "status": "ok",
     "timestamp": 1636291898946,
     "user_tz": -60,
     "elapsed": 229,
     "user": {
      "displayName": "딥러닝호형",
      "photoUrl": "https://lh3.googleusercontent.com/a-/AOh14GhhDjkGnBZ0JW1k2J6y2lNP9dJeVbQWPuZEpfUc=s64",
      "userId": "11263585794403583722"
     }
    },
    "ExecuteTime": {
     "end_time": "2025-03-17T02:44:25.369167Z",
     "start_time": "2025-03-17T02:44:25.358166Z"
    }
   },
   "source": [
    "learning_rate = 1e-3\n",
    "optimizer = torch.optim.SGD([w, b], lr=learning_rate)"
   ],
   "outputs": [],
   "execution_count": 16
  },
  {
   "cell_type": "code",
   "metadata": {
    "id": "_mXmgxBAsg6k",
    "colab": {
     "base_uri": "https://localhost:8080/"
    },
    "executionInfo": {
     "status": "ok",
     "timestamp": 1636291904070,
     "user_tz": -60,
     "elapsed": 265,
     "user": {
      "displayName": "딥러닝호형",
      "photoUrl": "https://lh3.googleusercontent.com/a-/AOh14GhhDjkGnBZ0JW1k2J6y2lNP9dJeVbQWPuZEpfUc=s64",
      "userId": "11263585794403583722"
     }
    },
    "outputId": "f5cf68bf-3ae8-4b0b-be9a-2388801dabaa",
    "ExecuteTime": {
     "end_time": "2025-03-17T02:44:25.417164Z",
     "start_time": "2025-03-17T02:44:25.403165Z"
    }
   },
   "source": [
    "print(w.shape, b.shape)"
   ],
   "outputs": [
    {
     "name": "stdout",
     "output_type": "stream",
     "text": [
      "torch.Size([1, 1]) torch.Size([1])\n"
     ]
    }
   ],
   "execution_count": 17
  },
  {
   "cell_type": "code",
   "metadata": {
    "id": "hRqUbCoZsg6k",
    "colab": {
     "base_uri": "https://localhost:8080/"
    },
    "executionInfo": {
     "status": "ok",
     "timestamp": 1636292005245,
     "user_tz": -60,
     "elapsed": 574,
     "user": {
      "displayName": "딥러닝호형",
      "photoUrl": "https://lh3.googleusercontent.com/a-/AOh14GhhDjkGnBZ0JW1k2J6y2lNP9dJeVbQWPuZEpfUc=s64",
      "userId": "11263585794403583722"
     }
    },
    "outputId": "3d4729ea-fa64-4da9-dfae-e4ba57541109",
    "ExecuteTime": {
     "end_time": "2025-03-17T02:44:25.801216Z",
     "start_time": "2025-03-17T02:44:25.435166Z"
    }
   },
   "source": [
    "loss_stack = []\n",
    "for epoch in range(1001):\n",
    "    \n",
    "    optimizer.zero_grad()\n",
    "    \n",
    "    y_hat = torch.matmul(x, w) + b\n",
    "    loss = torch.mean((y_hat-y)**2)\n",
    "    \n",
    "    loss.backward()\n",
    "    optimizer.step() \n",
    "    loss_stack.append(loss.item())\n",
    "    \n",
    "    if epoch % 100 == 0:\n",
    "        print(f'Epoch {epoch}:{loss.item()}')"
   ],
   "outputs": [
    {
     "name": "stdout",
     "output_type": "stream",
     "text": [
      "Epoch 0:53.02552032470703\n",
      "Epoch 100:3.6888680458068848\n",
      "Epoch 200:0.3567788004875183\n",
      "Epoch 300:0.12169404327869415\n",
      "Epoch 400:0.09622804820537567\n",
      "Epoch 500:0.08595291525125504\n",
      "Epoch 600:0.07766362279653549\n",
      "Epoch 700:0.07036308944225311\n",
      "Epoch 800:0.06388819962739944\n",
      "Epoch 900:0.058142293244600296\n",
      "Epoch 1000:0.053043145686388016\n"
     ]
    }
   ],
   "execution_count": 18
  },
  {
   "cell_type": "code",
   "metadata": {
    "id": "pPdXk7Atsg6l",
    "executionInfo": {
     "status": "ok",
     "timestamp": 1636292020368,
     "user_tz": -60,
     "elapsed": 210,
     "user": {
      "displayName": "딥러닝호형",
      "photoUrl": "https://lh3.googleusercontent.com/a-/AOh14GhhDjkGnBZ0JW1k2J6y2lNP9dJeVbQWPuZEpfUc=s64",
      "userId": "11263585794403583722"
     }
    },
    "ExecuteTime": {
     "end_time": "2025-03-17T02:44:25.833164Z",
     "start_time": "2025-03-17T02:44:25.819165Z"
    }
   },
   "source": [
    "with torch.no_grad():\n",
    "    y_hat = torch.matmul(x, w) + b"
   ],
   "outputs": [],
   "execution_count": 19
  },
  {
   "cell_type": "code",
   "metadata": {
    "id": "gJXgNOrZsg6l",
    "colab": {
     "base_uri": "https://localhost:8080/",
     "height": 336
    },
    "executionInfo": {
     "status": "ok",
     "timestamp": 1636292026587,
     "user_tz": -60,
     "elapsed": 697,
     "user": {
      "displayName": "딥러닝호형",
      "photoUrl": "https://lh3.googleusercontent.com/a-/AOh14GhhDjkGnBZ0JW1k2J6y2lNP9dJeVbQWPuZEpfUc=s64",
      "userId": "11263585794403583722"
     }
    },
    "outputId": "7acf7776-5bc8-406f-c221-e224015cdc50",
    "ExecuteTime": {
     "end_time": "2025-03-17T02:44:26.071164Z",
     "start_time": "2025-03-17T02:44:25.851165Z"
    }
   },
   "source": [
    "plt.figure(figsize=(10, 5))\n",
    "plt.subplot(121)\n",
    "plt.plot(loss_stack)\n",
    "plt.title(\"Loss\")\n",
    "plt.subplot(122)\n",
    "plt.plot(x, y,'.b')\n",
    "plt.plot(x, y_hat, 'r-')\n",
    "plt.legend(['ground truth','prediction'])\n",
    "plt.title(\"Prediction\")\n",
    "plt.show()"
   ],
   "outputs": [
    {
     "data": {
      "text/plain": [
       "<Figure size 1000x500 with 2 Axes>"
      ],
      "image/png": "[encoded data removed]"
     },
     "metadata": {},
     "output_type": "display_data"
    }
   ],
   "execution_count": 20
  },
  {
   "cell_type": "code",
   "metadata": {
    "id": "LDV0hvfWsg6m",
    "ExecuteTime": {
     "end_time": "2025-03-17T02:44:26.103189Z",
     "start_time": "2025-03-17T02:44:26.089166Z"
    }
   },
   "source": [
    ""
   ],
   "outputs": [],
   "execution_count": null
  }
 ]
}
