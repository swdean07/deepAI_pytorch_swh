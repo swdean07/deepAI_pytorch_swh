{
 "cells": [
  {
   "cell_type": "code",
   "id": "initial_id",
   "metadata": {
    "collapsed": true,
    "ExecuteTime": {
     "end_time": "2025-03-17T05:43:46.065949Z",
     "start_time": "2025-03-17T05:43:46.046942Z"
    }
   },
   "source": [
    "#파이토치 기본 라이브러리\n",
    "import torch\n",
    "\n",
    "# 이미지와 관련된 파이토치 라이브러리\n",
    "import torchvision\n",
    "\n",
    "#이미지 전처리 기능들을 제공하는 라이브러리\n",
    "import torchvision.transforms as tr\n",
    "\n",
    "#데이터를 모델에 사용할 수 있도록 정리해 주는 라이브러리\n",
    "from torch.utils.data import DataLoader, Dataset\n",
    "import numpy as p\n",
    "import matplotlib.pyplot as plt"
   ],
   "outputs": [],
   "execution_count": 8
  },
  {
   "metadata": {
    "ExecuteTime": {
     "end_time": "2025-03-17T05:43:46.081905Z",
     "start_time": "2025-03-17T05:43:46.072932Z"
    }
   },
   "cell_type": "code",
   "source": [
    "transf = tr.Compose([tr.Resize((16,16)),tr.ToTensor()])\n",
    "trainset = torchvision.datasets.ImageFolder(root='./class', transform=transf)\n"
   ],
   "id": "5f43de0b78a9b520",
   "outputs": [],
   "execution_count": 9
  },
  {
   "metadata": {
    "ExecuteTime": {
     "end_time": "2025-03-17T05:43:46.144931Z",
     "start_time": "2025-03-17T05:43:46.114935Z"
    }
   },
   "cell_type": "code",
   "source": [
    "print(trainset[0][0].size())\n",
    "\n",
    "trainloader = DataLoader(trainset, batch_size=2, shuffle=True)\n",
    "\n",
    "images, labels = next(iter(trainloader))\n",
    "print(images.size())\n",
    "\n",
    "oneshot = images[0].permute(1,2,0).numpy()\n",
    "\n",
    "plt.figure(figsize=(2,2))\n",
    "plt.imshow(oneshot)\n",
    "plt.axis(\"off\")\n",
    "plt.show()"
   ],
   "id": "32882dc56fa805e9",
   "outputs": [
    {
     "name": "stdout",
     "output_type": "stream",
     "text": [
      "torch.Size([3, 16, 16])\n",
      "torch.Size([2, 3, 16, 16])\n"
     ]
    },
    {
     "data": {
      "text/plain": [
       "<Figure size 200x200 with 1 Axes>"
      ],
      "image/png": "[encoded data removed]"
     },
     "metadata": {},
     "output_type": "display_data"
    }
   ],
   "execution_count": 10
  },
  {
   "metadata": {
    "ExecuteTime": {
     "end_time": "2025-03-17T05:43:46.208940Z",
     "start_time": "2025-03-17T05:43:46.197908Z"
    }
   },
   "cell_type": "code",
   "source": "",
   "id": "9fbab4b5b98d05ca",
   "outputs": [],
   "execution_count": null
  },
  {
   "metadata": {
    "ExecuteTime": {
     "end_time": "2025-03-17T05:43:46.256958Z",
     "start_time": "2025-03-17T05:43:46.242906Z"
    }
   },
   "cell_type": "code",
   "source": "",
   "id": "f5dc6f8c4c2f02a0",
   "outputs": [],
   "execution_count": null
  },
  {
   "metadata": {
    "ExecuteTime": {
     "end_time": "2025-03-17T05:43:46.335904Z",
     "start_time": "2025-03-17T05:43:46.320936Z"
    }
   },
   "cell_type": "code",
   "source": "",
   "id": "1ce673d79ee622df",
   "outputs": [],
   "execution_count": null
  }
 ],
 "metadata": {
  "kernelspec": {
   "display_name": "Python 3",
   "language": "python",
   "name": "python3"
  },
  "language_info": {
   "codemirror_mode": {
    "name": "ipython",
    "version": 2
   },
   "file_extension": ".py",
   "mimetype": "text/x-python",
   "name": "python",
   "nbconvert_exporter": "python",
   "pygments_lexer": "ipython2",
   "version": "2.7.6"
  }
 },
 "nbformat": 4,
 "nbformat_minor": 5
}
