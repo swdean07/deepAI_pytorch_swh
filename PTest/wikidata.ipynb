{
 "cells": [
  {
   "cell_type": "code",
   "id": "initial_id",
   "metadata": {
    "collapsed": true,
    "ExecuteTime": {
     "end_time": "2025-04-01T07:25:18.053892Z",
     "start_time": "2025-04-01T07:25:17.140468Z"
    }
   },
   "source": [
    "import wikipediaapi\n",
    "\n",
    "# 올바른 Wikipedia 객체 생성 (User-Agent 추가)\n",
    "wiki = wikipediaapi.Wikipedia(\n",
    "    language='ko',\n",
    "    user_agent=\"MyPythonApp/1.0 (your_email@example.com)\"  # 본인 이메일이나 앱 정보 입력\n",
    ")\n",
    "\n",
    "# 특정 페이지 가져오기\n",
    "page = wiki.page(\"강아지\")\n",
    "\n",
    "# 페이지가 존재하는지 확인 후 출력\n",
    "if page.exists():\n",
    "    print(\"제목:\", page.title)\n",
    "    print(\"요약:\", page.summary[:500])  # 요약 부분 출력\n",
    "else:\n",
    "    print(\"페이지가 존재하지 않습니다.\")"
   ],
   "outputs": [
    {
     "name": "stdout",
     "output_type": "stream",
     "text": [
      "제목: 강아지\n",
      "요약: 강아지(puppy, )는 개의 새끼를 일컫는다. 강아지는 성체로 발달하는 과정에 있으므로 자라면서 털색이나 체형 등이 달라질 수 있으며, 정서적인 변화를 겪기도 한다. 강아지 알레르기가 있으면 강아지를 피하는 것이 좋다.\n"
     ]
    }
   ],
   "execution_count": 7
  },
  {
   "metadata": {
    "ExecuteTime": {
     "end_time": "2025-04-01T07:25:21.922221Z",
     "start_time": "2025-04-01T07:25:20.600384Z"
    }
   },
   "cell_type": "code",
   "source": [
    "import wikipediaapi\n",
    "\n",
    "# 올바른 Wikipedia 객체 생성 (User-Agent 추가)\n",
    "wiki = wikipediaapi.Wikipedia(\n",
    "    language='ko',\n",
    "    user_agent=\"MyPythonApp/1.0 (your_email@example.com)\"  # 본인 이메일이나 앱 정보 입력\n",
    ")\n",
    "\n",
    "# 특정 페이지 가져오기\n",
    "page = wiki.page(\"고양이\")\n",
    "\n",
    "# 페이지가 존재하는지 확인 후 출력\n",
    "if page.exists():\n",
    "    print(\"제목:\", page.title)\n",
    "    print(\"요약:\", page.summary[:500])  # 요약 부분 출력\n",
    "else:\n",
    "    print(\"페이지가 존재하지 않습니다.\")"
   ],
   "id": "23da62ee089ade4",
   "outputs": [
    {
     "name": "stdout",
     "output_type": "stream",
     "text": [
      "제목: 고양이\n",
      "요약: 고양이(학명: Felis catus 펠리스 카투스[*])는 식육목 고양이과에 속하는 포유류이다. 집고양이의 기원은 약 1만년 전 중동 지역에서 스스로 숲속을 나와 사람들이 모여사는 마을에 정착하여 길들여진 아프리카들고양이(학명: Felis lybica)로 추측된다.\n",
      "최근 고고학과 유전학의 발전에 따르면 고양이의 가축화는 기원전 7500년경 근동 지역에서 발생했다. 일반적으로 집에서 키우는 반려동물이나 농장 고양이로 사육되지만, 사람과의 접촉을 피하여 야생 고양이로 자유롭게 돌아다니기도 한다. 인간은 우정과 해충을 죽이는 능력을 높이 평가한다. 접을 수 있는 발톱은 생쥐나 쥐 같은 작은 먹이를 죽이는 데 적합하다. 튼튼하고 유연한 몸, 빠른 반사신경, 날카로운 이빨을 가지고 있으며, 야간 시력과 후각이 잘 발달되어 있다. 사회적 종이지만 고독한 사냥꾼이자 어두컴컴한 포식자이다. 고양이의 의사소통에는 야옹, 가르릉, 트릴링, 쉭쉭, 으르렁거림, 투덜거림과 같은 발성뿐만 아니라 고양이의 \n"
     ]
    }
   ],
   "execution_count": 8
  },
  {
   "metadata": {
    "ExecuteTime": {
     "end_time": "2025-04-01T07:25:41.781200Z",
     "start_time": "2025-04-01T07:25:40.262040Z"
    }
   },
   "cell_type": "code",
   "source": [
    "import wikipediaapi\n",
    "\n",
    "# 올바른 Wikipedia 객체 생성 (User-Agent 추가)\n",
    "wiki = wikipediaapi.Wikipedia(\n",
    "    language='ko',\n",
    "    user_agent=\"MyPythonApp/1.0 (your_email@example.com)\"  # 본인 이메일이나 앱 정보 입력\n",
    ")\n",
    "\n",
    "# 특정 페이지 가져오기\n",
    "page = wiki.page(\"축구\")\n",
    "\n",
    "# 페이지가 존재하는지 확인 후 출력\n",
    "if page.exists():\n",
    "    print(\"제목:\", page.title)\n",
    "    print(\"요약:\", page.summary[:500])  # 요약 부분 출력\n",
    "else:\n",
    "    print(\"페이지가 존재하지 않습니다.\")"
   ],
   "id": "b97cfa3a59d2993d",
   "outputs": [
    {
     "name": "stdout",
     "output_type": "stream",
     "text": [
      "제목: 축구\n",
      "요약: 축구(蹴球, 영어: association football or football 또는 soccer)는 11명의 선수들이 각각 한 팀을 이루어 주로 발을 사용하여 골대에 공을 넣는 구기 단체 스포츠, 현재 세계적으로 가장 인기있는 스포츠이다.\n",
      "경기장은 직사각형이며, 바닥은 천연잔디나 인조잔디 등으로 이루어져 있다. 경기장 양 끝에 놓인 상대방 골대 안으로 공을 통과시키면 득점이 된다. 선수 중 골키퍼만 팔과 손으로도 공을 건드릴 수 있으나, 팔과 손을 사용할 수 있는 구역이 제한되어 있다. 나머지 선수들은 팔과 손을 제외한 신체 부위로만 공을 다룰 수 있다. 골키퍼 외의 선수가 경기장 안에서 팔이나 손으로 공을 고의로 다루면 핸드볼 반칙 이 된다. 주로 발을 사용하여 공을 차며, 공이 공중에 떠있을 때에는 몸과 머리를 이용하는 것이 보통이다. 경기 종료 시점까지 더 많은 득점을 올린 팀이 승리하며, 동점일 때는 대회 규칙에 따라 무승부로 처리하거나 연장전과 승부차기로 승패를 결정 짓는다\n"
     ]
    }
   ],
   "execution_count": 9
  }
 ],
 "metadata": {
  "kernelspec": {
   "display_name": "Python 3",
   "language": "python",
   "name": "python3"
  },
  "language_info": {
   "codemirror_mode": {
    "name": "ipython",
    "version": 2
   },
   "file_extension": ".py",
   "mimetype": "text/x-python",
   "name": "python",
   "nbconvert_exporter": "python",
   "pygments_lexer": "ipython2",
   "version": "2.7.6"
  }
 },
 "nbformat": 4,
 "nbformat_minor": 5
}
