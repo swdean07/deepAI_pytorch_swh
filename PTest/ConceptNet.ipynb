{
 "cells": [
  {
   "metadata": {
    "ExecuteTime": {
     "end_time": "2025-04-01T07:30:05.384609Z",
     "start_time": "2025-04-01T07:30:03.854852Z"
    }
   },
   "cell_type": "code",
   "source": [
    "import requests\n",
    "\n",
    "url = \"https://api.conceptnet.io/query?node=/c/ko/강아지\"\n",
    "response = requests.get(url)\n",
    "data = response.json()\n",
    "\n",
    "print(data)"
   ],
   "id": "865c058e24bd577f",
   "outputs": [
    {
     "name": "stdout",
     "output_type": "stream",
     "text": [
      "{'@context': ['http://api.conceptnet.io/ld/conceptnet5.7/context.ld.json'], '@id': '/query?node=/c/ko/강아지', 'edges': [{'@id': '/a/[/r/RelatedTo/,/c/ko/강아지/n/,/c/en/puppy/]', '@type': 'Edge', 'dataset': '/d/wiktionary/en', 'end': {'@id': '/c/en/puppy', '@type': 'Node', 'label': 'puppy', 'language': 'en', 'term': '/c/en/puppy'}, 'license': 'cc:by-sa/4.0', 'rel': {'@id': '/r/RelatedTo', '@type': 'Relation', 'label': 'RelatedTo'}, 'sources': [{'@id': '/and/[/s/process/wikiparsec/2/,/s/resource/wiktionary/en/]', '@type': 'Source', 'contributor': '/s/resource/wiktionary/en', 'process': '/s/process/wikiparsec/2'}], 'start': {'@id': '/c/ko/강아지/n', '@type': 'Node', 'label': '강아지', 'language': 'ko', 'sense_label': 'n', 'term': '/c/ko/강아지'}, 'surfaceText': None, 'weight': 1.0}, {'@id': '/a/[/r/SymbolOf/,/c/mul/🐶/,/c/ko/강아지/]', '@type': 'Edge', 'dataset': '/d/emoji', 'end': {'@id': '/c/ko/강아지', '@type': 'Node', 'label': '강아지', 'language': 'ko', 'term': '/c/ko/강아지'}, 'license': 'cc:by/4.0', 'rel': {'@id': '/r/SymbolOf', '@type': 'Relation', 'label': 'SymbolOf'}, 'sources': [{'@id': '/s/resource/unicode/cldr/32.0.1', '@type': 'Source', 'contributor': '/s/resource/unicode/cldr/32.0.1'}], 'start': {'@id': '/c/mul/🐶', '@type': 'Node', 'label': '🐶', 'language': 'mul', 'term': '/c/mul/🐶'}, 'surfaceText': None, 'weight': 1.0}, {'@id': '/a/[/r/RelatedTo/,/c/ko/개/n/wikt/en_2/,/c/ko/강아지/]', '@type': 'Edge', 'dataset': '/d/wiktionary/en', 'end': {'@id': '/c/ko/강아지', '@type': 'Node', 'label': '강아지', 'language': 'ko', 'term': '/c/ko/강아지'}, 'license': 'cc:by-sa/4.0', 'rel': {'@id': '/r/RelatedTo', '@type': 'Relation', 'label': 'RelatedTo'}, 'sources': [{'@id': '/and/[/s/process/wikiparsec/2/,/s/resource/wiktionary/en/]', '@type': 'Source', 'contributor': '/s/resource/wiktionary/en', 'process': '/s/process/wikiparsec/2'}], 'start': {'@id': '/c/ko/개/n/wikt/en_2', '@type': 'Node', 'label': '개', 'language': 'ko', 'sense_label': 'n', 'term': '/c/ko/개'}, 'surfaceText': None, 'weight': 1.0}, {'@id': '/a/[/r/RelatedTo/,/c/ko/강아지/n/,/c/en/doggy/]', '@type': 'Edge', 'dataset': '/d/wiktionary/en', 'end': {'@id': '/c/en/doggy', '@type': 'Node', 'label': 'doggy', 'language': 'en', 'term': '/c/en/doggy'}, 'license': 'cc:by-sa/4.0', 'rel': {'@id': '/r/RelatedTo', '@type': 'Relation', 'label': 'RelatedTo'}, 'sources': [{'@id': '/and/[/s/process/wikiparsec/2/,/s/resource/wiktionary/en/]', '@type': 'Source', 'contributor': '/s/resource/wiktionary/en', 'process': '/s/process/wikiparsec/2'}], 'start': {'@id': '/c/ko/강아지/n', '@type': 'Node', 'label': '강아지', 'language': 'ko', 'sense_label': 'n', 'term': '/c/ko/강아지'}, 'surfaceText': None, 'weight': 1.0}, {'@id': '/a/[/r/RelatedTo/,/c/ko/강아지/n/,/c/en/dog/]', '@type': 'Edge', 'dataset': '/d/wiktionary/en', 'end': {'@id': '/c/en/dog', '@type': 'Node', 'label': 'dog', 'language': 'en', 'term': '/c/en/dog'}, 'license': 'cc:by-sa/4.0', 'rel': {'@id': '/r/RelatedTo', '@type': 'Relation', 'label': 'RelatedTo'}, 'sources': [{'@id': '/and/[/s/process/wikiparsec/2/,/s/resource/wiktionary/en/]', '@type': 'Source', 'contributor': '/s/resource/wiktionary/en', 'process': '/s/process/wikiparsec/2'}], 'start': {'@id': '/c/ko/강아지/n', '@type': 'Node', 'label': '강아지', 'language': 'ko', 'sense_label': 'n', 'term': '/c/ko/강아지'}, 'surfaceText': None, 'weight': 1.0}, {'@id': '/a/[/r/Synonym/,/c/fr/chiot/n/,/c/ko/강아지/]', '@type': 'Edge', 'dataset': '/d/wiktionary/fr', 'end': {'@id': '/c/ko/강아지', '@type': 'Node', 'label': '강아지', 'language': 'ko', 'term': '/c/ko/강아지'}, 'license': 'cc:by-sa/4.0', 'rel': {'@id': '/r/Synonym', '@type': 'Relation', 'label': 'Synonym'}, 'sources': [{'@id': '/and/[/s/process/wikiparsec/2/,/s/resource/wiktionary/fr/]', '@type': 'Source', 'contributor': '/s/resource/wiktionary/fr', 'process': '/s/process/wikiparsec/2'}], 'start': {'@id': '/c/fr/chiot/n', '@type': 'Node', 'label': 'chiot', 'language': 'fr', 'sense_label': 'n', 'term': '/c/fr/chiot'}, 'surfaceText': None, 'weight': 1.0}, {'@id': '/a/[/r/RelatedTo/,/c/ko/강아지/n/,/c/fr/chiot/]', '@type': 'Edge', 'dataset': '/d/wiktionary/fr', 'end': {'@id': '/c/fr/chiot', '@type': 'Node', 'label': 'chiot', 'language': 'fr', 'term': '/c/fr/chiot'}, 'license': 'cc:by-sa/4.0', 'rel': {'@id': '/r/RelatedTo', '@type': 'Relation', 'label': 'RelatedTo'}, 'sources': [{'@id': '/and/[/s/process/wikiparsec/2/,/s/resource/wiktionary/fr/]', '@type': 'Source', 'contributor': '/s/resource/wiktionary/fr', 'process': '/s/process/wikiparsec/2'}], 'start': {'@id': '/c/ko/강아지/n', '@type': 'Node', 'label': '강아지', 'language': 'ko', 'sense_label': 'n', 'term': '/c/ko/강아지'}, 'surfaceText': None, 'weight': 1.0}, {'@id': '/a/[/r/SymbolOf/,/c/mul/🐕/,/c/ko/강아지/]', '@type': 'Edge', 'dataset': '/d/emoji', 'end': {'@id': '/c/ko/강아지', '@type': 'Node', 'label': '강아지', 'language': 'ko', 'term': '/c/ko/강아지'}, 'license': 'cc:by/4.0', 'rel': {'@id': '/r/SymbolOf', '@type': 'Relation', 'label': 'SymbolOf'}, 'sources': [{'@id': '/s/resource/unicode/cldr/32.0.1', '@type': 'Source', 'contributor': '/s/resource/unicode/cldr/32.0.1'}], 'start': {'@id': '/c/mul/🐕', '@type': 'Node', 'label': '🐕', 'language': 'mul', 'term': '/c/mul/🐕'}, 'surfaceText': None, 'weight': 1.0}, {'@id': '/a/[/r/Synonym/,/c/en/puppy/n/,/c/ko/강아지/]', '@type': 'Edge', 'dataset': '/d/wiktionary/en', 'end': {'@id': '/c/ko/강아지', '@type': 'Node', 'label': '강아지', 'language': 'ko', 'term': '/c/ko/강아지'}, 'license': 'cc:by-sa/4.0', 'rel': {'@id': '/r/Synonym', '@type': 'Relation', 'label': 'Synonym'}, 'sources': [{'@id': '/and/[/s/process/wikiparsec/2/,/s/resource/wiktionary/en/]', '@type': 'Source', 'contributor': '/s/resource/wiktionary/en', 'process': '/s/process/wikiparsec/2'}], 'start': {'@id': '/c/en/puppy/n', '@type': 'Node', 'label': 'puppy', 'language': 'en', 'sense_label': 'n', 'term': '/c/en/puppy'}, 'surfaceText': None, 'weight': 1.0}, {'@id': '/a/[/r/ExternalURL/,/c/ko/강아지/,/http://fr.wiktionary.org/wiki/강아지/]', '@type': 'Edge', 'dataset': '/d/wiktionary/fr', 'end': {'@id': 'http://fr.wiktionary.org/wiki/강아지', '@type': 'Node', 'label': '강아지', 'path': '/wiki/강아지', 'site': 'fr.wiktionary.org', 'site_available': True, 'term': 'http://fr.wiktionary.org/wiki/강아지'}, 'license': 'cc:by-sa/4.0', 'rel': {'@id': '/r/ExternalURL', '@type': 'Relation', 'label': 'ExternalURL'}, 'sources': [{'@id': '/and/[/s/process/wikiparsec/2/,/s/resource/wiktionary/fr/]', '@type': 'Source', 'contributor': '/s/resource/wiktionary/fr', 'process': '/s/process/wikiparsec/2'}], 'start': {'@id': '/c/ko/강아지', '@type': 'Node', 'label': '강아지', 'language': 'ko', 'term': '/c/ko/강아지'}, 'surfaceText': None, 'weight': 0.25}, {'@id': '/a/[/r/ExternalURL/,/c/ko/강아지/,/http://en.wiktionary.org/wiki/강아지/]', '@type': 'Edge', 'dataset': '/d/wiktionary/en', 'end': {'@id': 'http://en.wiktionary.org/wiki/강아지', '@type': 'Node', 'label': '강아지', 'path': '/wiki/강아지', 'site': 'en.wiktionary.org', 'site_available': True, 'term': 'http://en.wiktionary.org/wiki/강아지'}, 'license': 'cc:by-sa/4.0', 'rel': {'@id': '/r/ExternalURL', '@type': 'Relation', 'label': 'ExternalURL'}, 'sources': [{'@id': '/and/[/s/process/wikiparsec/2/,/s/resource/wiktionary/en/]', '@type': 'Source', 'contributor': '/s/resource/wiktionary/en', 'process': '/s/process/wikiparsec/2'}], 'start': {'@id': '/c/ko/강아지', '@type': 'Node', 'label': '강아지', 'language': 'ko', 'term': '/c/ko/강아지'}, 'surfaceText': None, 'weight': 0.25}], 'version': '5.8.1'}\n"
     ]
    }
   ],
   "execution_count": 2
  },
  {
   "metadata": {
    "ExecuteTime": {
     "end_time": "2025-04-01T07:35:10.593430Z",
     "start_time": "2025-04-01T07:35:09.791534Z"
    }
   },
   "cell_type": "code",
   "source": [
    "import requests\n",
    "\n",
    "# 예시: '강아지'에 대한 관계를 ConceptNet API를 통해 가져오기\n",
    "url = \"https://api.conceptnet.io/query?node=/c/ko/고양이&limit=10\"\n",
    "response = requests.get(url)\n",
    "data = response.json()\n",
    "\n",
    "# API 응답을 확인\n",
    "print(data)"
   ],
   "id": "d05d22898d13e6e",
   "outputs": [
    {
     "name": "stdout",
     "output_type": "stream",
     "text": [
      "{'@context': ['http://api.conceptnet.io/ld/conceptnet5.7/context.ld.json'], '@id': '/query?node=/c/ko/고양이', 'edges': [{'@id': '/a/[/r/HasContext/,/c/ko/고양이/n/,/c/fr/zoologie/]', '@type': 'Edge', 'dataset': '/d/wiktionary/fr', 'end': {'@id': '/c/fr/zoologie', '@type': 'Node', 'label': 'zoologie', 'language': 'fr', 'term': '/c/fr/zoologie'}, 'license': 'cc:by-sa/4.0', 'rel': {'@id': '/r/HasContext', '@type': 'Relation', 'label': 'HasContext'}, 'sources': [{'@id': '/and/[/s/process/wikiparsec/2/,/s/resource/wiktionary/fr/]', '@type': 'Source', 'contributor': '/s/resource/wiktionary/fr', 'process': '/s/process/wikiparsec/2'}], 'start': {'@id': '/c/ko/고양이/n', '@type': 'Node', 'label': '고양이', 'language': 'ko', 'sense_label': 'n', 'term': '/c/ko/고양이'}, 'surfaceText': None, 'weight': 1.0}, {'@id': '/a/[/r/SymbolOf/,/c/mul/😿/,/c/ko/고양이/]', '@type': 'Edge', 'dataset': '/d/emoji', 'end': {'@id': '/c/ko/고양이', '@type': 'Node', 'label': '고양이', 'language': 'ko', 'term': '/c/ko/고양이'}, 'license': 'cc:by/4.0', 'rel': {'@id': '/r/SymbolOf', '@type': 'Relation', 'label': 'SymbolOf'}, 'sources': [{'@id': '/s/resource/unicode/cldr/32.0.1', '@type': 'Source', 'contributor': '/s/resource/unicode/cldr/32.0.1'}], 'start': {'@id': '/c/mul/😿', '@type': 'Node', 'label': '😿', 'language': 'mul', 'term': '/c/mul/😿'}, 'surfaceText': None, 'weight': 1.0}, {'@id': '/a/[/r/SymbolOf/,/c/mul/😻/,/c/ko/고양이/]', '@type': 'Edge', 'dataset': '/d/emoji', 'end': {'@id': '/c/ko/고양이', '@type': 'Node', 'label': '고양이', 'language': 'ko', 'term': '/c/ko/고양이'}, 'license': 'cc:by/4.0', 'rel': {'@id': '/r/SymbolOf', '@type': 'Relation', 'label': 'SymbolOf'}, 'sources': [{'@id': '/s/resource/unicode/cldr/32.0.1', '@type': 'Source', 'contributor': '/s/resource/unicode/cldr/32.0.1'}], 'start': {'@id': '/c/mul/😻', '@type': 'Node', 'label': '😻', 'language': 'mul', 'term': '/c/mul/😻'}, 'surfaceText': None, 'weight': 1.0}, {'@id': '/a/[/r/SymbolOf/,/c/mul/😸/,/c/ko/고양이/]', '@type': 'Edge', 'dataset': '/d/emoji', 'end': {'@id': '/c/ko/고양이', '@type': 'Node', 'label': '고양이', 'language': 'ko', 'term': '/c/ko/고양이'}, 'license': 'cc:by/4.0', 'rel': {'@id': '/r/SymbolOf', '@type': 'Relation', 'label': 'SymbolOf'}, 'sources': [{'@id': '/s/resource/unicode/cldr/32.0.1', '@type': 'Source', 'contributor': '/s/resource/unicode/cldr/32.0.1'}], 'start': {'@id': '/c/mul/😸', '@type': 'Node', 'label': '😸', 'language': 'mul', 'term': '/c/mul/😸'}, 'surfaceText': None, 'weight': 1.0}, {'@id': '/a/[/r/Synonym/,/c/ko/야옹이/n/,/c/ko/고양이/]', '@type': 'Edge', 'dataset': '/d/wiktionary/fr', 'end': {'@id': '/c/ko/고양이', '@type': 'Node', 'label': '고양이', 'language': 'ko', 'term': '/c/ko/고양이'}, 'license': 'cc:by-sa/4.0', 'rel': {'@id': '/r/Synonym', '@type': 'Relation', 'label': 'Synonym'}, 'sources': [{'@id': '/and/[/s/process/wikiparsec/2/,/s/resource/wiktionary/fr/]', '@type': 'Source', 'contributor': '/s/resource/wiktionary/fr', 'process': '/s/process/wikiparsec/2'}], 'start': {'@id': '/c/ko/야옹이/n', '@type': 'Node', 'label': '야옹이', 'language': 'ko', 'sense_label': 'n', 'term': '/c/ko/야옹이'}, 'surfaceText': None, 'weight': 1.0}, {'@id': '/a/[/r/RelatedTo/,/c/ko/고양이/n/,/c/en/cat/]', '@type': 'Edge', 'dataset': '/d/wiktionary/en', 'end': {'@id': '/c/en/cat', '@type': 'Node', 'label': 'cat', 'language': 'en', 'term': '/c/en/cat'}, 'license': 'cc:by-sa/4.0', 'rel': {'@id': '/r/RelatedTo', '@type': 'Relation', 'label': 'RelatedTo'}, 'sources': [{'@id': '/and/[/s/process/wikiparsec/2/,/s/resource/wiktionary/en/]', '@type': 'Source', 'contributor': '/s/resource/wiktionary/en', 'process': '/s/process/wikiparsec/2'}], 'start': {'@id': '/c/ko/고양이/n', '@type': 'Node', 'label': '고양이', 'language': 'ko', 'sense_label': 'n', 'term': '/c/ko/고양이'}, 'surfaceText': None, 'weight': 1.0}, {'@id': '/a/[/r/Synonym/,/c/de/katze/n/,/c/ko/고양이/]', '@type': 'Edge', 'dataset': '/d/wiktionary/de', 'end': {'@id': '/c/ko/고양이', '@type': 'Node', 'label': '고양이', 'language': 'ko', 'term': '/c/ko/고양이'}, 'license': 'cc:by-sa/4.0', 'rel': {'@id': '/r/Synonym', '@type': 'Relation', 'label': 'Synonym'}, 'sources': [{'@id': '/and/[/s/process/wikiparsec/2/,/s/resource/wiktionary/de/]', '@type': 'Source', 'contributor': '/s/resource/wiktionary/de', 'process': '/s/process/wikiparsec/2'}], 'start': {'@id': '/c/de/katze/n', '@type': 'Node', 'label': 'katze', 'language': 'de', 'sense_label': 'n', 'term': '/c/de/katze'}, 'surfaceText': None, 'weight': 1.0}, {'@id': '/a/[/r/SymbolOf/,/c/mul/😽/,/c/ko/고양이/]', '@type': 'Edge', 'dataset': '/d/emoji', 'end': {'@id': '/c/ko/고양이', '@type': 'Node', 'label': '고양이', 'language': 'ko', 'term': '/c/ko/고양이'}, 'license': 'cc:by/4.0', 'rel': {'@id': '/r/SymbolOf', '@type': 'Relation', 'label': 'SymbolOf'}, 'sources': [{'@id': '/s/resource/unicode/cldr/32.0.1', '@type': 'Source', 'contributor': '/s/resource/unicode/cldr/32.0.1'}], 'start': {'@id': '/c/mul/😽', '@type': 'Node', 'label': '😽', 'language': 'mul', 'term': '/c/mul/😽'}, 'surfaceText': None, 'weight': 1.0}, {'@id': '/a/[/r/Synonym/,/c/en/kitty/n/,/c/ko/고양이/]', '@type': 'Edge', 'dataset': '/d/wiktionary/en', 'end': {'@id': '/c/ko/고양이', '@type': 'Node', 'label': '고양이', 'language': 'ko', 'term': '/c/ko/고양이'}, 'license': 'cc:by-sa/4.0', 'rel': {'@id': '/r/Synonym', '@type': 'Relation', 'label': 'Synonym'}, 'sources': [{'@id': '/and/[/s/process/wikiparsec/2/,/s/resource/wiktionary/en/]', '@type': 'Source', 'contributor': '/s/resource/wiktionary/en', 'process': '/s/process/wikiparsec/2'}], 'start': {'@id': '/c/en/kitty/n', '@type': 'Node', 'label': 'kitty', 'language': 'en', 'sense_label': 'n', 'term': '/c/en/kitty'}, 'surfaceText': None, 'weight': 1.0}, {'@id': '/a/[/r/SymbolOf/,/c/mul/😾/,/c/ko/고양이/]', '@type': 'Edge', 'dataset': '/d/emoji', 'end': {'@id': '/c/ko/고양이', '@type': 'Node', 'label': '고양이', 'language': 'ko', 'term': '/c/ko/고양이'}, 'license': 'cc:by/4.0', 'rel': {'@id': '/r/SymbolOf', '@type': 'Relation', 'label': 'SymbolOf'}, 'sources': [{'@id': '/s/resource/unicode/cldr/32.0.1', '@type': 'Source', 'contributor': '/s/resource/unicode/cldr/32.0.1'}], 'start': {'@id': '/c/mul/😾', '@type': 'Node', 'label': '😾', 'language': 'mul', 'term': '/c/mul/😾'}, 'surfaceText': None, 'weight': 1.0}], 'version': '5.8.1', 'view': {'@id': '/query?node=/c/ko/고양이&offset=0&limit=10', '@type': 'PartialCollectionView', 'comment': \"There are more results. Follow the 'nextPage' link for more.\", 'firstPage': '/query?node=/c/ko/고양이&offset=0&limit=10', 'nextPage': '/query?node=/c/ko/고양이&offset=10&limit=10', 'paginatedProperty': 'edges'}}\n"
     ]
    }
   ],
   "execution_count": 8
  },
  {
   "metadata": {
    "ExecuteTime": {
     "end_time": "2025-04-01T07:35:12.368765Z",
     "start_time": "2025-04-01T07:35:12.057304Z"
    }
   },
   "cell_type": "code",
   "source": [
    "from datasets import load_dataset\n",
    "\n",
    "dataset = load_dataset(\"conceptnet\")\n",
    "print(dataset)"
   ],
   "id": "f9f603842005289b",
   "outputs": [
    {
     "ename": "DatasetNotFoundError",
     "evalue": "Dataset 'conceptnet' doesn't exist on the Hub or cannot be accessed.",
     "output_type": "error",
     "traceback": [
      "\u001B[1;31m---------------------------------------------------------------------------\u001B[0m",
      "\u001B[1;31mDatasetNotFoundError\u001B[0m                      Traceback (most recent call last)",
      "Cell \u001B[1;32mIn[9], line 3\u001B[0m\n\u001B[0;32m      1\u001B[0m \u001B[38;5;28;01mfrom\u001B[39;00m\u001B[38;5;250m \u001B[39m\u001B[38;5;21;01mdatasets\u001B[39;00m\u001B[38;5;250m \u001B[39m\u001B[38;5;28;01mimport\u001B[39;00m load_dataset\n\u001B[1;32m----> 3\u001B[0m dataset \u001B[38;5;241m=\u001B[39m \u001B[43mload_dataset\u001B[49m\u001B[43m(\u001B[49m\u001B[38;5;124;43m\"\u001B[39;49m\u001B[38;5;124;43mconceptnet\u001B[39;49m\u001B[38;5;124;43m\"\u001B[39;49m\u001B[43m)\u001B[49m\n\u001B[0;32m      4\u001B[0m \u001B[38;5;28mprint\u001B[39m(dataset)\n",
      "File \u001B[1;32m~\\anaconda3\\envs\\Pytorch\\lib\\site-packages\\datasets\\load.py:2062\u001B[0m, in \u001B[0;36mload_dataset\u001B[1;34m(path, name, data_dir, data_files, split, cache_dir, features, download_config, download_mode, verification_mode, keep_in_memory, save_infos, revision, token, streaming, num_proc, storage_options, trust_remote_code, **config_kwargs)\u001B[0m\n\u001B[0;32m   2057\u001B[0m verification_mode \u001B[38;5;241m=\u001B[39m VerificationMode(\n\u001B[0;32m   2058\u001B[0m     (verification_mode \u001B[38;5;129;01mor\u001B[39;00m VerificationMode\u001B[38;5;241m.\u001B[39mBASIC_CHECKS) \u001B[38;5;28;01mif\u001B[39;00m \u001B[38;5;129;01mnot\u001B[39;00m save_infos \u001B[38;5;28;01melse\u001B[39;00m VerificationMode\u001B[38;5;241m.\u001B[39mALL_CHECKS\n\u001B[0;32m   2059\u001B[0m )\n\u001B[0;32m   2061\u001B[0m \u001B[38;5;66;03m# Create a dataset builder\u001B[39;00m\n\u001B[1;32m-> 2062\u001B[0m builder_instance \u001B[38;5;241m=\u001B[39m load_dataset_builder(\n\u001B[0;32m   2063\u001B[0m     path\u001B[38;5;241m=\u001B[39mpath,\n\u001B[0;32m   2064\u001B[0m     name\u001B[38;5;241m=\u001B[39mname,\n\u001B[0;32m   2065\u001B[0m     data_dir\u001B[38;5;241m=\u001B[39mdata_dir,\n\u001B[0;32m   2066\u001B[0m     data_files\u001B[38;5;241m=\u001B[39mdata_files,\n\u001B[0;32m   2067\u001B[0m     cache_dir\u001B[38;5;241m=\u001B[39mcache_dir,\n\u001B[0;32m   2068\u001B[0m     features\u001B[38;5;241m=\u001B[39mfeatures,\n\u001B[0;32m   2069\u001B[0m     download_config\u001B[38;5;241m=\u001B[39mdownload_config,\n\u001B[0;32m   2070\u001B[0m     download_mode\u001B[38;5;241m=\u001B[39mdownload_mode,\n\u001B[0;32m   2071\u001B[0m     revision\u001B[38;5;241m=\u001B[39mrevision,\n\u001B[0;32m   2072\u001B[0m     token\u001B[38;5;241m=\u001B[39mtoken,\n\u001B[0;32m   2073\u001B[0m     storage_options\u001B[38;5;241m=\u001B[39mstorage_options,\n\u001B[0;32m   2074\u001B[0m     trust_remote_code\u001B[38;5;241m=\u001B[39mtrust_remote_code,\n\u001B[0;32m   2075\u001B[0m     _require_default_config_name\u001B[38;5;241m=\u001B[39mname \u001B[38;5;129;01mis\u001B[39;00m \u001B[38;5;28;01mNone\u001B[39;00m,\n\u001B[0;32m   2076\u001B[0m     \u001B[38;5;241m*\u001B[39m\u001B[38;5;241m*\u001B[39mconfig_kwargs,\n\u001B[0;32m   2077\u001B[0m )\n\u001B[0;32m   2079\u001B[0m \u001B[38;5;66;03m# Return iterable dataset in case of streaming\u001B[39;00m\n\u001B[0;32m   2080\u001B[0m \u001B[38;5;28;01mif\u001B[39;00m streaming:\n",
      "File \u001B[1;32m~\\anaconda3\\envs\\Pytorch\\lib\\site-packages\\datasets\\load.py:1782\u001B[0m, in \u001B[0;36mload_dataset_builder\u001B[1;34m(path, name, data_dir, data_files, cache_dir, features, download_config, download_mode, revision, token, storage_options, trust_remote_code, _require_default_config_name, **config_kwargs)\u001B[0m\n\u001B[0;32m   1780\u001B[0m     download_config \u001B[38;5;241m=\u001B[39m download_config\u001B[38;5;241m.\u001B[39mcopy() \u001B[38;5;28;01mif\u001B[39;00m download_config \u001B[38;5;28;01melse\u001B[39;00m DownloadConfig()\n\u001B[0;32m   1781\u001B[0m     download_config\u001B[38;5;241m.\u001B[39mstorage_options\u001B[38;5;241m.\u001B[39mupdate(storage_options)\n\u001B[1;32m-> 1782\u001B[0m dataset_module \u001B[38;5;241m=\u001B[39m \u001B[43mdataset_module_factory\u001B[49m\u001B[43m(\u001B[49m\n\u001B[0;32m   1783\u001B[0m \u001B[43m    \u001B[49m\u001B[43mpath\u001B[49m\u001B[43m,\u001B[49m\n\u001B[0;32m   1784\u001B[0m \u001B[43m    \u001B[49m\u001B[43mrevision\u001B[49m\u001B[38;5;241;43m=\u001B[39;49m\u001B[43mrevision\u001B[49m\u001B[43m,\u001B[49m\n\u001B[0;32m   1785\u001B[0m \u001B[43m    \u001B[49m\u001B[43mdownload_config\u001B[49m\u001B[38;5;241;43m=\u001B[39;49m\u001B[43mdownload_config\u001B[49m\u001B[43m,\u001B[49m\n\u001B[0;32m   1786\u001B[0m \u001B[43m    \u001B[49m\u001B[43mdownload_mode\u001B[49m\u001B[38;5;241;43m=\u001B[39;49m\u001B[43mdownload_mode\u001B[49m\u001B[43m,\u001B[49m\n\u001B[0;32m   1787\u001B[0m \u001B[43m    \u001B[49m\u001B[43mdata_dir\u001B[49m\u001B[38;5;241;43m=\u001B[39;49m\u001B[43mdata_dir\u001B[49m\u001B[43m,\u001B[49m\n\u001B[0;32m   1788\u001B[0m \u001B[43m    \u001B[49m\u001B[43mdata_files\u001B[49m\u001B[38;5;241;43m=\u001B[39;49m\u001B[43mdata_files\u001B[49m\u001B[43m,\u001B[49m\n\u001B[0;32m   1789\u001B[0m \u001B[43m    \u001B[49m\u001B[43mcache_dir\u001B[49m\u001B[38;5;241;43m=\u001B[39;49m\u001B[43mcache_dir\u001B[49m\u001B[43m,\u001B[49m\n\u001B[0;32m   1790\u001B[0m \u001B[43m    \u001B[49m\u001B[43mtrust_remote_code\u001B[49m\u001B[38;5;241;43m=\u001B[39;49m\u001B[43mtrust_remote_code\u001B[49m\u001B[43m,\u001B[49m\n\u001B[0;32m   1791\u001B[0m \u001B[43m    \u001B[49m\u001B[43m_require_default_config_name\u001B[49m\u001B[38;5;241;43m=\u001B[39;49m\u001B[43m_require_default_config_name\u001B[49m\u001B[43m,\u001B[49m\n\u001B[0;32m   1792\u001B[0m \u001B[43m    \u001B[49m\u001B[43m_require_custom_configs\u001B[49m\u001B[38;5;241;43m=\u001B[39;49m\u001B[38;5;28;43mbool\u001B[39;49m\u001B[43m(\u001B[49m\u001B[43mconfig_kwargs\u001B[49m\u001B[43m)\u001B[49m\u001B[43m,\u001B[49m\n\u001B[0;32m   1793\u001B[0m \u001B[43m\u001B[49m\u001B[43m)\u001B[49m\n\u001B[0;32m   1794\u001B[0m \u001B[38;5;66;03m# Get dataset builder class from the processing script\u001B[39;00m\n\u001B[0;32m   1795\u001B[0m builder_kwargs \u001B[38;5;241m=\u001B[39m dataset_module\u001B[38;5;241m.\u001B[39mbuilder_kwargs\n",
      "File \u001B[1;32m~\\anaconda3\\envs\\Pytorch\\lib\\site-packages\\datasets\\load.py:1652\u001B[0m, in \u001B[0;36mdataset_module_factory\u001B[1;34m(path, revision, download_config, download_mode, dynamic_modules_path, data_dir, data_files, cache_dir, trust_remote_code, _require_default_config_name, _require_custom_configs, **download_kwargs)\u001B[0m\n\u001B[0;32m   1650\u001B[0m     \u001B[38;5;28;01mraise\u001B[39;00m \u001B[38;5;167;01mConnectionError\u001B[39;00m(\u001B[38;5;124mf\u001B[39m\u001B[38;5;124m\"\u001B[39m\u001B[38;5;124mCouldn\u001B[39m\u001B[38;5;124m'\u001B[39m\u001B[38;5;124mt reach the Hugging Face Hub for dataset \u001B[39m\u001B[38;5;124m'\u001B[39m\u001B[38;5;132;01m{\u001B[39;00mpath\u001B[38;5;132;01m}\u001B[39;00m\u001B[38;5;124m'\u001B[39m\u001B[38;5;124m: \u001B[39m\u001B[38;5;132;01m{\u001B[39;00me1\u001B[38;5;132;01m}\u001B[39;00m\u001B[38;5;124m\"\u001B[39m) \u001B[38;5;28;01mfrom\u001B[39;00m\u001B[38;5;250m \u001B[39m\u001B[38;5;28;01mNone\u001B[39;00m\n\u001B[0;32m   1651\u001B[0m \u001B[38;5;28;01mif\u001B[39;00m \u001B[38;5;28misinstance\u001B[39m(e1, (DataFilesNotFoundError, DatasetNotFoundError, EmptyDatasetError)):\n\u001B[1;32m-> 1652\u001B[0m     \u001B[38;5;28;01mraise\u001B[39;00m e1 \u001B[38;5;28;01mfrom\u001B[39;00m\u001B[38;5;250m \u001B[39m\u001B[38;5;28;01mNone\u001B[39;00m\n\u001B[0;32m   1653\u001B[0m \u001B[38;5;28;01mif\u001B[39;00m \u001B[38;5;28misinstance\u001B[39m(e1, \u001B[38;5;167;01mFileNotFoundError\u001B[39;00m):\n\u001B[0;32m   1654\u001B[0m     \u001B[38;5;28;01mif\u001B[39;00m trust_remote_code:\n",
      "File \u001B[1;32m~\\anaconda3\\envs\\Pytorch\\lib\\site-packages\\datasets\\load.py:1578\u001B[0m, in \u001B[0;36mdataset_module_factory\u001B[1;34m(path, revision, download_config, download_mode, dynamic_modules_path, data_dir, data_files, cache_dir, trust_remote_code, _require_default_config_name, _require_custom_configs, **download_kwargs)\u001B[0m\n\u001B[0;32m   1574\u001B[0m     \u001B[38;5;28;01mraise\u001B[39;00m DatasetNotFoundError(\n\u001B[0;32m   1575\u001B[0m         \u001B[38;5;124mf\u001B[39m\u001B[38;5;124m\"\u001B[39m\u001B[38;5;124mRevision \u001B[39m\u001B[38;5;124m'\u001B[39m\u001B[38;5;132;01m{\u001B[39;00mrevision\u001B[38;5;132;01m}\u001B[39;00m\u001B[38;5;124m'\u001B[39m\u001B[38;5;124m doesn\u001B[39m\u001B[38;5;124m'\u001B[39m\u001B[38;5;124mt exist for dataset \u001B[39m\u001B[38;5;124m'\u001B[39m\u001B[38;5;132;01m{\u001B[39;00mpath\u001B[38;5;132;01m}\u001B[39;00m\u001B[38;5;124m'\u001B[39m\u001B[38;5;124m on the Hub.\u001B[39m\u001B[38;5;124m\"\u001B[39m\n\u001B[0;32m   1576\u001B[0m     ) \u001B[38;5;28;01mfrom\u001B[39;00m\u001B[38;5;250m \u001B[39m\u001B[38;5;21;01me\u001B[39;00m\n\u001B[0;32m   1577\u001B[0m \u001B[38;5;28;01mexcept\u001B[39;00m RepositoryNotFoundError \u001B[38;5;28;01mas\u001B[39;00m e:\n\u001B[1;32m-> 1578\u001B[0m     \u001B[38;5;28;01mraise\u001B[39;00m DatasetNotFoundError(\u001B[38;5;124mf\u001B[39m\u001B[38;5;124m\"\u001B[39m\u001B[38;5;124mDataset \u001B[39m\u001B[38;5;124m'\u001B[39m\u001B[38;5;132;01m{\u001B[39;00mpath\u001B[38;5;132;01m}\u001B[39;00m\u001B[38;5;124m'\u001B[39m\u001B[38;5;124m doesn\u001B[39m\u001B[38;5;124m'\u001B[39m\u001B[38;5;124mt exist on the Hub or cannot be accessed.\u001B[39m\u001B[38;5;124m\"\u001B[39m) \u001B[38;5;28;01mfrom\u001B[39;00m\u001B[38;5;250m \u001B[39m\u001B[38;5;21;01me\u001B[39;00m\n\u001B[0;32m   1579\u001B[0m \u001B[38;5;28;01mtry\u001B[39;00m:\n\u001B[0;32m   1580\u001B[0m     dataset_script_path \u001B[38;5;241m=\u001B[39m api\u001B[38;5;241m.\u001B[39mhf_hub_download(\n\u001B[0;32m   1581\u001B[0m         repo_id\u001B[38;5;241m=\u001B[39mpath,\n\u001B[0;32m   1582\u001B[0m         filename\u001B[38;5;241m=\u001B[39mfilename,\n\u001B[1;32m   (...)\u001B[0m\n\u001B[0;32m   1585\u001B[0m         proxies\u001B[38;5;241m=\u001B[39mdownload_config\u001B[38;5;241m.\u001B[39mproxies,\n\u001B[0;32m   1586\u001B[0m     )\n",
      "\u001B[1;31mDatasetNotFoundError\u001B[0m: Dataset 'conceptnet' doesn't exist on the Hub or cannot be accessed."
     ]
    }
   ],
   "execution_count": 9
  },
  {
   "metadata": {
    "ExecuteTime": {
     "end_time": "2025-04-01T08:04:02.096117Z",
     "start_time": "2025-04-01T08:03:02.341975Z"
    }
   },
   "cell_type": "code",
   "source": [
    "import gzip\n",
    "import shutil\n",
    "\n",
    "with gzip.open(\"conceptnet-assertions-5.7.0.csv.gz\", \"rb\") as f_in:\n",
    "    with open(\"conceptnet-assertions-5.7.0.csv\", \"wb\") as f_out:\n",
    "        shutil.copyfileobj(f_in, f_out)\n",
    "\n",
    "print(\"압축 파일이 정상적으로 풀렸습니다.\")"
   ],
   "id": "65c773354e558c4",
   "outputs": [
    {
     "name": "stdout",
     "output_type": "stream",
     "text": [
      "압축 파일이 정상적으로 풀렸습니다.\n"
     ]
    }
   ],
   "execution_count": 1
  },
  {
   "metadata": {
    "ExecuteTime": {
     "end_time": "2025-04-01T08:20:14.697221Z",
     "start_time": "2025-04-01T08:13:08.740466Z"
    }
   },
   "cell_type": "code",
   "source": [
    "import pandas as pd\n",
    "\n",
    "chunk_size = 1000  # 원하는 chunk 크기\n",
    "chunks = pd.read_csv(\"conceptnet-assertions-5.7.0.csv\", delimiter=\"\\t\", names=[\"url\", \"relation\", \"start\", \"end\", \"context\", \"weight\"], chunksize=chunk_size)\n",
    "\n",
    "df_ko = pd.DataFrame()\n",
    "for chunk in chunks:\n",
    "    df_ko = pd.concat([df_ko, chunk[chunk[\"start\"].str.contains(\"/c/ko/\")]], ignore_index=True)\n",
    "\n",
    "print(f\"데이터 출력: {len(df_ko)}\")"
   ],
   "id": "fc8ba5655dc16acd",
   "outputs": [
    {
     "name": "stdout",
     "output_type": "stream",
     "text": [
      "데이터 출력: 95459\n"
     ]
    }
   ],
   "execution_count": 1
  },
  {
   "metadata": {
    "ExecuteTime": {
     "end_time": "2025-04-01T08:27:52.652349Z",
     "start_time": "2025-04-01T08:22:32.500685Z"
    }
   },
   "cell_type": "code",
   "source": [
    "import pandas as pd\n",
    "\n",
    "chunk_size = 1000  # 원하는 chunk 크기\n",
    "chunks = pd.read_csv(\"conceptnet-assertions-5.7.0.csv\", delimiter=\"\\t\", names=[\"url\", \"relation\", \"start\", \"end\", \"context\", \"weight\"], chunksize=chunk_size)\n",
    "\n",
    "df_ko = pd.DataFrame()\n",
    "words = []\n",
    "\n",
    "for chunk in chunks:\n",
    "    # \"ㅊ\"으로 시작하는 단어를 필터링\n",
    "    df_ko_chunk = chunk[chunk[\"start\"].str.startswith(\"ㅊ\")]\n",
    "\n",
    "    # 필터링된 'start' 열에서 단어들을 리스트에 저장\n",
    "    words.extend(df_ko_chunk[\"start\"].unique())  # 중복 단어를 제거하고 리스트에 추가\n",
    "\n",
    "    # 결과를 누적\n",
    "    df_ko = pd.concat([df_ko, df_ko_chunk], ignore_index=True)\n",
    "\n",
    "# 결과 출력\n",
    "print(f\"ㅊ으로 시작하는 단어 수: {len(df_ko)}\")\n",
    "print(f\"ㅊ으로 시작하는 단어 목록:\")\n",
    "print(words[:10])  # 처음 10개 단어만 출력 (중복 없이)"
   ],
   "id": "5240f1fe9f89f6f5",
   "outputs": [
    {
     "name": "stdout",
     "output_type": "stream",
     "text": [
      "ㅊ으로 시작하는 단어 수: 0\n",
      "ㅊ으로 시작하는 단어 목록:\n",
      "[]\n"
     ]
    }
   ],
   "execution_count": 2
  },
  {
   "metadata": {},
   "cell_type": "code",
   "outputs": [],
   "execution_count": null,
   "source": [
    "import pandas as pd\n",
    "\n",
    "# 예시: ConceptNet에서 'start' 속성에 대해 속성을 추출하고, 그에 맞는 예/아니오 질문 생성\n",
    "# ConceptNet에서 각 단어가 어떤 범주에 속하는지 확인하여 질문을 만들어야 함\n",
    "\n",
    "chunk_size = 1000  # 원하는 chunk 크기\n",
    "chunks = pd.read_csv(\"conceptnet-assertions-5.7.0.csv\", delimiter=\"\\t\", names=[\"url\", \"relation\", \"start\", \"end\", \"context\", \"weight\"], chunksize=chunk_size)\n",
    "\n",
    "df_ko = pd.DataFrame()\n",
    "words = []\n",
    "\n",
    "# 범주 정보 예시 (실제 데이터를 기반으로 좀 더 많은 범주를 설정해야 함)\n",
    "categories = {\n",
    "    \"동물\": [\"/c/ko/animal\", \"/c/ko/dog\", \"/c/ko/cat\"],  # 동물 관련 범주\n",
    "    \"사람\": [\"/c/ko/person\", \"/c/ko/man\", \"/c/ko/woman\"],  # 사람 관련 범주\n",
    "    \"과일\": [\"/c/ko/fruit\", \"/c/ko/apple\", \"/c/ko/banana\"],  # 과일 관련 범주\n",
    "    # 필요한 만큼 범주를 추가...\n",
    "}\n",
    "\n",
    "# 각 범주에 해당하는 질문을 설정 (필요한 경우 더 구체적으로 조정)\n",
    "category_questions = {\n",
    "    \"동물\": \"이것은 동물인가요?\",\n",
    "    \"사람\": \"이것은 사람인가요?\",\n",
    "    \"과일\": \"이것은 과일인가요?\",\n",
    "}\n",
    "\n",
    "# ConceptNet 데이터를 통해 각 단어를 범주와 매칭시키는 과정\n",
    "for chunk in chunks:\n",
    "    # \"ㅊ\"으로 시작하는 단어를 필터링\n",
    "    df_ko_chunk = chunk[chunk[\"start\"].str.startswith(\"ㅊ\")]\n",
    "\n",
    "    # 필터링된 'start' 열에서 단어들을 리스트에 저장\n",
    "    words.extend(df_ko_chunk[\"start\"].unique())  # 중복 단어를 제거하고 리스트에 추가\n",
    "\n",
    "    # 결과를 누적\n",
    "    df_ko = pd.concat([df_ko, df_ko_chunk], ignore_index=True)\n",
    "\n",
    "# 스무고개 형식으로 변환 (질문/답변)\n",
    "questions = []\n",
    "\n",
    "# 각 단어에 대해 속성 정보를 기반으로 질문 생성\n",
    "for word in words[:10]:  # 처음 10개 단어에 대해 질문 생성 (이 부분은 필요에 따라 조정)\n",
    "    # ConceptNet에서 해당 단어의 속성 정보를 확인\n",
    "    question_generated = False\n",
    "\n",
    "    for category, category_keywords in categories.items():\n",
    "        if any(keyword in word for keyword in category_keywords):\n",
    "            question = category_questions[category]  # 예시 질문 (범주에 맞는 질문)\n",
    "            answer = \"예\"  # 예시로 모든 답을 \"예\"로 설정 (실제 데이터에 따라 변경)\n",
    "            questions.append((word, question, answer))\n",
    "            question_generated = True\n",
    "            break\n",
    "\n",
    "    # 속성 정보가 없으면 기본 질문 생성\n",
    "    if not question_generated:\n",
    "        questions.append((word, f\"이것은 {word}인가요?\", \"예\"))  # 범주 정보를 찾을 수 없으면 기본 질문 생성\n",
    "\n",
    "# 질문/답변 출력\n",
    "for word, q, a in questions:\n",
    "    print(f\"단어: {word} | 질문: {q} | 답변: {a}\")"
   ],
   "id": "3d275ed89e626b0"
  }
 ],
 "metadata": {
  "kernelspec": {
   "display_name": "Python 3",
   "language": "python",
   "name": "python3"
  },
  "language_info": {
   "codemirror_mode": {
    "name": "ipython",
    "version": 2
   },
   "file_extension": ".py",
   "mimetype": "text/x-python",
   "name": "python",
   "nbconvert_exporter": "python",
   "pygments_lexer": "ipython2",
   "version": "2.7.6"
  }
 },
 "nbformat": 4,
 "nbformat_minor": 5
}
