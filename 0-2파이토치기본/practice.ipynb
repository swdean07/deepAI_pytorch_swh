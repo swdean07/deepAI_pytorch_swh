{
 "cells": [
  {
   "metadata": {
    "ExecuteTime": {
     "end_time": "2025-03-15T08:25:04.505291Z",
     "start_time": "2025-03-15T08:25:04.493180Z"
    }
   },
   "cell_type": "code",
   "source": "import torch",
   "id": "5943d1e325ba1807",
   "outputs": [],
   "execution_count": 2
  },
  {
   "metadata": {
    "ExecuteTime": {
     "end_time": "2025-03-15T08:25:06.223263Z",
     "start_time": "2025-03-15T08:25:06.109972Z"
    }
   },
   "cell_type": "code",
   "source": [
    "#AI_머신러닝_딥러닝_개발 #미니실습\n",
    "\n",
    "# 텐서 , 기본 함수 확인\n",
    "#\n",
    "# 📌 문제 1: PyTorch에서 랜덤 텐서를 생성하고, 가장 큰 값을 가진 인덱스를 찾으세요.\n",
    "# (1) 4x4 크기의 랜덤 텐서를 생성하세요.\n",
    "tensor = torch.rand(4,4)\n",
    "print(f\"tensor: {tensor}\\n\")\n",
    "\n",
    "# (2) 각 행에서 가장 큰 값을 가진 인덱스를 찾으세요.\n",
    "max = torch.argmax(tensor, dim=1)\n",
    "print(f\"max: {max}\")"
   ],
   "id": "cd704726b4ce330b",
   "outputs": [
    {
     "name": "stdout",
     "output_type": "stream",
     "text": [
      "tensor: tensor([[0.6314, 0.2547, 0.1494, 0.1738],\n",
      "        [0.6910, 0.6031, 0.6912, 0.3416],\n",
      "        [0.5888, 0.6846, 0.0250, 0.4649],\n",
      "        [0.5903, 0.0013, 0.5081, 0.3176]])\n",
      "\n",
      "max: tensor([0, 2, 1, 0])\n"
     ]
    }
   ],
   "execution_count": 3
  },
  {
   "metadata": {
    "ExecuteTime": {
     "end_time": "2025-03-15T08:25:38.317852Z",
     "start_time": "2025-03-15T08:25:38.299768Z"
    }
   },
   "cell_type": "code",
   "source": [
    "# 📌 문제 2: squeeze()와 unsqueeze()를 이용해 텐서의 차원을 조작하세요.\n",
    "# (1) (1, 3, 1, 4) 크기의 랜덤 텐서를 생성하세요.\n",
    "x = torch.rand(1, 3, 1, 4)\n",
    "print(\"Original Tensor x:\\n\", x)\n",
    "print(f\"x.shape: {x.shape}\\n\")  # (1, 3, 1, 4)\n",
    "\n",
    "# (2) squeeze()를 사용하여 크기를 줄이기\n",
    "# - squeeze()는 크기가 1인 차원을 제거함\n",
    "# - (1, 3, 1, 4) -> (3, 4) (차원 0과 2가 제거됨)\n",
    "x_squeezed = x.squeeze()\n",
    "print(\"Squeezed Tensor x_squeezed:\\n\", x_squeezed)\n",
    "print(f\"x_squeezed.shape: {x_squeezed.shape}\\n\")  # (3, 4)\n",
    "\n",
    "# (3) unsqueeze()를 사용하여 특정 차원에 새 차원 추가\n",
    "# - unsqueeze(dim=1)은 지정한 위치(dim=1)에 차원을 추가\n",
    "# - (3, 4) -> (3, 1, 4) (차원 1이 추가됨)\n",
    "x_unsqueezed = x_squeezed.unsqueeze(1)\n",
    "print(\"Unsqueezed Tensor x_unsqueezed:\\n\", x_unsqueezed)\n",
    "print(f\"x_unsqueezed.shape: {x_unsqueezed.shape}\")  # (3, 1, 4)"
   ],
   "id": "58d642c8d202730d",
   "outputs": [
    {
     "name": "stdout",
     "output_type": "stream",
     "text": [
      "Original Tensor x:\n",
      " tensor([[[[0.4823, 0.0042, 0.2583, 0.5355]],\n",
      "\n",
      "         [[0.9381, 0.3444, 0.3632, 0.9156]],\n",
      "\n",
      "         [[0.7608, 0.3611, 0.2963, 0.1888]]]])\n",
      "x.shape: torch.Size([1, 3, 1, 4])\n",
      "\n",
      "Squeezed Tensor x_squeezed:\n",
      " tensor([[0.4823, 0.0042, 0.2583, 0.5355],\n",
      "        [0.9381, 0.3444, 0.3632, 0.9156],\n",
      "        [0.7608, 0.3611, 0.2963, 0.1888]])\n",
      "x_squeezed.shape: torch.Size([3, 4])\n",
      "\n",
      "Unsqueezed Tensor x_unsqueezed:\n",
      " tensor([[[0.4823, 0.0042, 0.2583, 0.5355]],\n",
      "\n",
      "        [[0.9381, 0.3444, 0.3632, 0.9156]],\n",
      "\n",
      "        [[0.7608, 0.3611, 0.2963, 0.1888]]])\n",
      "x_unsqueezed.shape: torch.Size([3, 1, 4])\n"
     ]
    }
   ],
   "execution_count": 5
  },
  {
   "metadata": {
    "ExecuteTime": {
     "end_time": "2025-03-15T08:25:40.244203Z",
     "start_time": "2025-03-15T08:25:40.205957Z"
    }
   },
   "cell_type": "code",
   "source": [
    "# 📌 문제 3: torch.cat()과 torch.stack()의 차이를 확인하세요.\n",
    "# (1) 크기가 (2,3)인 두 개의 텐서를 만드세요.\n",
    "# (1) 크기가 (2,3)인 두 개의 랜덤 텐서 생성\n",
    "t1 = torch.rand(2, 3)\n",
    "t2 = torch.rand(2, 3)\n",
    "\n",
    "print(f\"t1:\\n{t1}\")\n",
    "print(f\"t1.shape: {t1.shape}\\n\")\n",
    "\n",
    "print(f\"t2:\\n{t2}\")\n",
    "print(f\"t2.shape: {t2.shape}\\n\")\n",
    "\n",
    "# (2) torch.cat()을 이용하여 dim=0 방향으로 연결\n",
    "# - 기존 차원을 유지하면서 두 텐서를 연결\n",
    "# - (2,3) + (2,3) -> (4,3)\n",
    "tc = torch.cat((t1, t2), dim=0)\n",
    "print(f\"tc (Concatenated Tensor using torch.cat()):\\n{tc}\")\n",
    "print(f\"tc.shape: {tc.shape}\\n\")  # (4, 3)\n",
    "\n",
    "# (3) torch.stack()을 이용하여 dim=0 방향으로 스택\n",
    "# - 새로운 차원을 추가하여 두 텐서를 쌓음\n",
    "# - (2,3), (2,3) -> (2,2,3)\n",
    "ts = torch.stack((t1, t2), dim=0)\n",
    "print(f\"ts (Stacked Tensor using torch.stack()):\\n{ts}\")\n",
    "print(f\"ts.shape: {ts.shape}\\n\")  # (2, 2, 3)"
   ],
   "id": "dae1b95eec2b8a6a",
   "outputs": [
    {
     "name": "stdout",
     "output_type": "stream",
     "text": [
      "t1:\n",
      "tensor([[0.4552, 0.1254, 0.5111],\n",
      "        [0.2864, 0.1195, 0.5052]])\n",
      "t1.shape: torch.Size([2, 3])\n",
      "\n",
      "t2:\n",
      "tensor([[0.6953, 0.2923, 0.6533],\n",
      "        [0.3141, 0.9914, 0.4153]])\n",
      "t2.shape: torch.Size([2, 3])\n",
      "\n",
      "tc (Concatenated Tensor using torch.cat()):\n",
      "tensor([[0.4552, 0.1254, 0.5111],\n",
      "        [0.2864, 0.1195, 0.5052],\n",
      "        [0.6953, 0.2923, 0.6533],\n",
      "        [0.3141, 0.9914, 0.4153]])\n",
      "tc.shape: torch.Size([4, 3])\n",
      "\n",
      "ts (Stacked Tensor using torch.stack()):\n",
      "tensor([[[0.4552, 0.1254, 0.5111],\n",
      "         [0.2864, 0.1195, 0.5052]],\n",
      "\n",
      "        [[0.6953, 0.2923, 0.6533],\n",
      "         [0.3141, 0.9914, 0.4153]]])\n",
      "ts.shape: torch.Size([2, 2, 3])\n",
      "\n"
     ]
    }
   ],
   "execution_count": 6
  },
  {
   "metadata": {
    "ExecuteTime": {
     "end_time": "2025-03-14T12:14:40.287084Z",
     "start_time": "2025-03-14T12:14:40.268007Z"
    }
   },
   "cell_type": "code",
   "source": [
    "# 📌 문제 4: torch.index_select()를 이용해 특정 행/열을 선택하세요.\n",
    "# (1) 크기가 (4,4)인 랜덤 텐서를 생성하세요.\n",
    "# (1) (4,4) 크기의 랜덤 텐서 생성\n",
    "x = torch.randn(4, 4)  # 평균이 0이고 표준편차가 1인 정규분포에서 무작위 값 생성\n",
    "print(\"Original Tensor x:\\n\", x)\n",
    "print(f\"x.shape: {x.shape}\\n\")  # (4, 4) 크기의 텐서\n",
    "\n",
    "# (2) 첫 번째 열(인덱스 0)과 세 번째 열(인덱스 2)을 선택하여 새로운 텐서 생성\n",
    "index = torch.tensor([0, 2])  # 선택할 열의 인덱스를 정의\n",
    "\n",
    "# torch.index_select()를 사용하여 특정 열 선택\n",
    "# dim=1: 열 기준으로 선택\n",
    "s_columns = torch.index_select(x, dim=1, index=index)\n",
    "\n",
    "print(\"Selected Columns:\\n\", s_columns)\n",
    "print(f\"s_columns.shape: {s_columns.shape}\")  # (4, 2) 크기의 텐서 (4행 2열)"
   ],
   "id": "2ba6b31e3b8b6ffc",
   "outputs": [
    {
     "name": "stdout",
     "output_type": "stream",
     "text": [
      "Original Tensor x:\n",
      " tensor([[-1.0095,  0.4973, -0.8783, -1.4450],\n",
      "        [-0.3563, -0.3794, -0.8155,  1.3168],\n",
      "        [ 0.7111,  1.1566, -0.6078, -0.0435],\n",
      "        [ 1.6329, -1.8496, -0.0281,  0.3589]])\n",
      "x.shape: torch.Size([4, 4])\n",
      "\n",
      "Selected Columns:\n",
      " tensor([[-1.0095, -0.8783],\n",
      "        [-0.3563, -0.8155],\n",
      "        [ 0.7111, -0.6078],\n",
      "        [ 1.6329, -0.0281]])\n",
      "s_columns.shape: torch.Size([4, 2])\n"
     ]
    }
   ],
   "execution_count": 13
  },
  {
   "metadata": {
    "ExecuteTime": {
     "end_time": "2025-03-14T12:14:43.513883Z",
     "start_time": "2025-03-14T12:14:43.492870Z"
    }
   },
   "cell_type": "code",
   "source": [
    "# 📌 문제 5: torch.topk()와 masked_fill()을 조합하여\n",
    "# 특정 조건을 만족하는 값을 변경하세요.\n",
    "# (1) 크기가 (3,5)인 랜덤 텐서를 생성하세요.\n",
    "# (3,5) 크기의 랜덤 텐서 생성\n",
    "x = torch.randn(3, 5)  # 평균이 0이고 표준편차가 1인 정규분포에서 값 생성\n",
    "print(\"Original Tensor x:\\n\", x)\n",
    "print(f\"x.shape: {x.shape}\\n\")\n",
    "\n",
    "# (2) 각 행에서 상위 3개의 값만 유지하고 나머지는 0으로 채우세요.\n",
    "# torch.topk()는 각 행에서 가장 큰 k개의 값을 반환\n",
    "# dim=1: 각 행에 대해 상위 k개 값 찾기, k=3\n",
    "topk_values, topk_indices = torch.topk(x, k=3, dim=1)\n",
    "\n",
    "# topk_values는 각 행의 상위 3개 값이 담긴 텐서, topk_indices는 해당 값들의 인덱스\n",
    "print(\"Top 3 values (per row):\\n\", topk_values)\n",
    "print(\"Top 3 indices (per row):\\n\", topk_indices)\n",
    "\n",
    "# (3) masked_fill()을 이용하여 상위 3개를 제외한 값은 0으로 채우기\n",
    "# 1. 텐서 x에서 상위 3개의 값의 인덱스를 찾아 0이 아닌 값으로 마스크 생성\n",
    "mask = torch.zeros_like(x).scatter_(1, topk_indices, 1)\n",
    "\n",
    "# 2. masked_fill()을 사용하여 마스크가 0인 부분을 0으로 채움\n",
    "x_filtered = x * mask\n",
    "print(\"Filtered Tensor (Top 3 values retained, others set to 0):\\n\", x_filtered)"
   ],
   "id": "12b7ad406e1bc2b5",
   "outputs": [
    {
     "name": "stdout",
     "output_type": "stream",
     "text": [
      "Original Tensor x:\n",
      " tensor([[ 0.9039, -2.1041, -0.0652,  1.5833,  1.1116],\n",
      "        [-1.3562,  1.5161,  0.5876, -2.5532, -0.2433],\n",
      "        [ 0.9975, -0.1491, -1.6011,  0.4309,  0.8957]])\n",
      "x.shape: torch.Size([3, 5])\n",
      "\n",
      "Top 3 values (per row):\n",
      " tensor([[ 1.5833,  1.1116,  0.9039],\n",
      "        [ 1.5161,  0.5876, -0.2433],\n",
      "        [ 0.9975,  0.8957,  0.4309]])\n",
      "Top 3 indices (per row):\n",
      " tensor([[3, 4, 0],\n",
      "        [1, 2, 4],\n",
      "        [0, 4, 3]])\n",
      "Filtered Tensor (Top 3 values retained, others set to 0):\n",
      " tensor([[ 0.9039, -0.0000, -0.0000,  1.5833,  1.1116],\n",
      "        [-0.0000,  1.5161,  0.5876, -0.0000, -0.2433],\n",
      "        [ 0.9975, -0.0000, -0.0000,  0.4309,  0.8957]])\n"
     ]
    }
   ],
   "execution_count": 14
  },
  {
   "metadata": {
    "ExecuteTime": {
     "end_time": "2025-03-14T12:15:21.908663Z",
     "start_time": "2025-03-14T12:15:21.862263Z"
    }
   },
   "cell_type": "code",
   "source": [
    "# 📌 문제 6: torch.randperm()을 이용하여 데이터를 랜덤하게 섞은 후,\n",
    "# torch.chunk()로 나누세요.\n",
    "# (1) 10개의 원소를 가진 텐서를 0~9까지 숫자로 채우세요.\n",
    "x = torch.arange(10)\n",
    "print(\"Original Tensor x:\\n\", x)\n",
    "print(f\"x.shape: {x.shape}\\n\")\n",
    "\n",
    "# (2) `torch.randperm()`을 사용하여 무작위로 섞으세요.\n",
    "shuffled_x = x[torch.randperm(10)]\n",
    "print(\"Shuffled Tensor:\\n\", shuffled_x)\n",
    "print(f\"shuffled_x.shape: {shuffled_x.shape}\\n\")\n",
    "\n",
    "# (3) `torch.chunk()`를 사용하여 2개의 부분으로 나누세요.\n",
    "chunks = torch.chunk(shuffled_x, 2)  # shuffled_x를 2개의 부분으로 나누기\n",
    "print(\"Chunks:\")\n",
    "for i, chunk in enumerate(chunks):\n",
    "    print(f\"Chunk {i+1}:\\n\", chunk)"
   ],
   "id": "522007b6e0696770",
   "outputs": [
    {
     "name": "stdout",
     "output_type": "stream",
     "text": [
      "Original Tensor x:\n",
      " tensor([0, 1, 2, 3, 4, 5, 6, 7, 8, 9])\n",
      "x.shape: torch.Size([10])\n",
      "\n",
      "Shuffled Tensor:\n",
      " tensor([3, 8, 6, 0, 2, 9, 1, 5, 7, 4])\n",
      "shuffled_x.shape: torch.Size([10])\n",
      "\n",
      "Chunks:\n",
      "Chunk 1:\n",
      " tensor([3, 8, 6, 0, 2])\n",
      "Chunk 2:\n",
      " tensor([9, 1, 5, 7, 4])\n"
     ]
    }
   ],
   "execution_count": 15
  },
  {
   "metadata": {
    "ExecuteTime": {
     "end_time": "2025-03-14T12:15:24.852609Z",
     "start_time": "2025-03-14T12:15:24.823992Z"
    }
   },
   "cell_type": "code",
   "source": [
    "# 📌 문제 7: expand()를 사용하여 텐서 크기를 확장하세요.\n",
    "# (1) 크기가 (1, 3)인 텐서를 생성하세요.\n",
    "x = torch.randn(1, 3)  # 랜덤한 값으로 (1, 3) 크기의 텐서 생성\n",
    "print(\"Original Tensor x:\\n\", x)\n",
    "print(f\"x.shape: {x.shape}\\n\")  # (1, 3)\n",
    "\n",
    "# (2) `expand()`를 사용하여 (5, 3) 크기로 확장하세요.\n",
    "# expand()는 텐서를 복제하는 것이 아니라 메모리 상에서 크기를 확장합니다.\n",
    "y = x.expand(5, 3)  # x를 (5, 3) 크기로 확장\n",
    "print(\"Expanded Tensor y:\\n\", y)\n",
    "print(f\"y.shape: {y.shape}\\n\")  # (5, 3)"
   ],
   "id": "51d2c8ba9cc7f4fb",
   "outputs": [
    {
     "name": "stdout",
     "output_type": "stream",
     "text": [
      "Original Tensor x:\n",
      " tensor([[-1.2402,  0.6546, -0.2731]])\n",
      "x.shape: torch.Size([1, 3])\n",
      "\n",
      "Expanded Tensor y:\n",
      " tensor([[-1.2402,  0.6546, -0.2731],\n",
      "        [-1.2402,  0.6546, -0.2731],\n",
      "        [-1.2402,  0.6546, -0.2731],\n",
      "        [-1.2402,  0.6546, -0.2731],\n",
      "        [-1.2402,  0.6546, -0.2731]])\n",
      "y.shape: torch.Size([5, 3])\n",
      "\n"
     ]
    }
   ],
   "execution_count": 16
  },
  {
   "metadata": {
    "ExecuteTime": {
     "end_time": "2025-03-14T07:20:17.787740Z",
     "start_time": "2025-03-14T07:20:17.773739Z"
    }
   },
   "cell_type": "code",
   "source": [
    "# 📌 문제 8: split()과 chunk()의 차이를 이해하세요.\n",
    "#\n",
    "# (1) 크기가 (10,)인 1D 텐서를 생성하세요.\n",
    "x = torch.arange(10)\n",
    "print(\"원본 텐서:\", x)\n",
    "\n",
    "# (2) `split()`을 사용하여 3개의 텐서로 나누세요.\n",
    "split_result = torch.split(x, [3, 3, 4])\n",
    "print(\"split() 결과:\", split_result)\n",
    "\n",
    "# (3) `chunk()`을 사용하여 3개의 텐서로 나누세요.\n",
    "chunk_result = torch.chunk(x, chunks=3)\n",
    "print(\"chunk() 결과:\", chunk_result)"
   ],
   "id": "51450f63118a0d9d",
   "outputs": [
    {
     "name": "stdout",
     "output_type": "stream",
     "text": [
      "원본 텐서: tensor([0, 1, 2, 3, 4, 5, 6, 7, 8, 9])\n",
      "split() 결과: (tensor([0, 1, 2]), tensor([3, 4, 5]), tensor([6, 7, 8, 9]))\n",
      "chunk() 결과: (tensor([0, 1, 2, 3]), tensor([4, 5, 6, 7]), tensor([8, 9]))\n"
     ]
    }
   ],
   "execution_count": 82
  },
  {
   "metadata": {
    "ExecuteTime": {
     "end_time": "2025-03-14T07:20:19.536844Z",
     "start_time": "2025-03-14T07:20:19.525844Z"
    }
   },
   "cell_type": "code",
   "source": [
    "# 📌 문제 9: masked_fill()을 사용하여 특정 조건을 만족하는 요소를 변경하세요.\n",
    "# (1) 크기가 (3, 3)인 랜덤 텐서를 생성하세요.\n",
    "x = torch.rand(3, 3)\n",
    "print(\"Original Tensor x:\\n\", x)\n",
    "\n",
    "# (2) 값이 0.5보다 작은 요소를 -1로 변경하세요.\n",
    "mask = x < 0.5  # 0.5보다 작은 값에 대해 True인 마스크 생성\n",
    "x.masked_fill_(mask, -1)  # 마스크에 해당하는 값을 -1로 변경\n",
    "print(\"Modified Tensor x:\\n\", x)"
   ],
   "id": "db434bc0f996a25d",
   "outputs": [
    {
     "name": "stdout",
     "output_type": "stream",
     "text": [
      "Original Tensor x:\n",
      " tensor([[0.0287, 0.7026, 0.2913],\n",
      "        [0.0285, 0.2672, 0.4935],\n",
      "        [0.6793, 0.7336, 0.9763]])\n",
      "Modified Tensor x:\n",
      " tensor([[-1.0000,  0.7026, -1.0000],\n",
      "        [-1.0000, -1.0000, -1.0000],\n",
      "        [ 0.6793,  0.7336,  0.9763]])\n"
     ]
    }
   ],
   "execution_count": 83
  },
  {
   "metadata": {
    "ExecuteTime": {
     "end_time": "2025-03-14T07:21:30.658833Z",
     "start_time": "2025-03-14T07:21:30.644757Z"
    }
   },
   "cell_type": "code",
   "source": [
    "# 📌 문제 10: torch.index_select()를 이용하여 특정 행을 선택하세요.\n",
    "# (1) 크기가 (5, 4)인 랜덤 텐서를 생성하세요.\n",
    "x = torch.rand(5, 4)\n",
    "print(\"Original Tensor x:\\n\", x)\n",
    "\n",
    "# (2) 두 번째와 네 번째 행만 선택하세요.\n",
    "indices = torch.tensor([1, 3])  # 두 번째(1)와 네 번째(3) 행을 선택\n",
    "selected_rows = torch.index_select(x, dim=0, index=indices)  # 행 선택\n",
    "print(\"Selected Rows:\\n\", selected_rows)"
   ],
   "id": "92f8a5f63f5b5172",
   "outputs": [
    {
     "name": "stdout",
     "output_type": "stream",
     "text": [
      "Original Tensor x:\n",
      " tensor([[0.9492, 0.9942, 0.2774, 0.5485],\n",
      "        [0.8533, 0.9286, 0.8313, 0.7795],\n",
      "        [0.3764, 0.9364, 0.6860, 0.7413],\n",
      "        [0.1099, 0.0583, 0.8902, 0.1953],\n",
      "        [0.6952, 0.2392, 0.5410, 0.1727]])\n",
      "Selected Rows:\n",
      " tensor([[0.8533, 0.9286, 0.8313, 0.7795],\n",
      "        [0.1099, 0.0583, 0.8902, 0.1953]])\n"
     ]
    }
   ],
   "execution_count": 86
  }
 ],
 "metadata": {
  "kernelspec": {
   "display_name": "Python 3",
   "language": "python",
   "name": "python3"
  },
  "language_info": {
   "codemirror_mode": {
    "name": "ipython",
    "version": 2
   },
   "file_extension": ".py",
   "mimetype": "text/x-python",
   "name": "python",
   "nbconvert_exporter": "python",
   "pygments_lexer": "ipython2",
   "version": "2.7.6"
  }
 },
 "nbformat": 4,
 "nbformat_minor": 5
}
