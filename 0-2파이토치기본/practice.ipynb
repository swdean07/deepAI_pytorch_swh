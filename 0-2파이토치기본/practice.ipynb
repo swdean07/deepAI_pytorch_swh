{
 "cells": [
  {
   "metadata": {
    "ExecuteTime": {
     "end_time": "2025-03-14T06:59:41.726344Z",
     "start_time": "2025-03-14T06:59:41.715309Z"
    }
   },
   "cell_type": "code",
   "source": "import torch",
   "id": "5943d1e325ba1807",
   "outputs": [],
   "execution_count": 59
  },
  {
   "metadata": {
    "ExecuteTime": {
     "end_time": "2025-03-14T06:59:43.051179Z",
     "start_time": "2025-03-14T06:59:43.036241Z"
    }
   },
   "cell_type": "code",
   "source": [
    "#AI_머신러닝_딥러닝_개발 #미니실습\n",
    "\n",
    "# 텐서 , 기본 함수 확인\n",
    "#\n",
    "# 📌 문제 1: PyTorch에서 랜덤 텐서를 생성하고, 가장 큰 값을 가진 인덱스를 찾으세요.\n",
    "# (1) 4x4 크기의 랜덤 텐서를 생성하세요.\n",
    "tensor = torch.rand(4,4)\n",
    "print(f\"tensor: {tensor}\\n\")\n",
    "\n",
    "# (2) 각 행에서 가장 큰 값을 가진 인덱스를 찾으세요.\n",
    "max = torch.argmax(tensor, dim=1)\n",
    "print(f\"max: {max}\")"
   ],
   "id": "cd704726b4ce330b",
   "outputs": [
    {
     "name": "stdout",
     "output_type": "stream",
     "text": [
      "tensor: tensor([[0.7810, 0.2365, 0.3002, 0.4276],\n",
      "        [0.5413, 0.4432, 0.6843, 0.6531],\n",
      "        [0.6786, 0.6875, 0.1492, 0.3343],\n",
      "        [0.0604, 0.9812, 0.6707, 0.0623]])\n",
      "\n",
      "max: tensor([0, 2, 1, 1])\n"
     ]
    }
   ],
   "execution_count": 60
  },
  {
   "metadata": {
    "ExecuteTime": {
     "end_time": "2025-03-14T07:36:56.700505Z",
     "start_time": "2025-03-14T07:36:56.686502Z"
    }
   },
   "cell_type": "code",
   "source": [
    "# 📌 문제 2: squeeze()와 unsqueeze()를 이용해 텐서의 차원을 조작하세요.\n",
    "# (1) (1, 3, 1, 4) 크기의 랜덤 텐서를 생성하세요.\n",
    "x = torch.rand(1, 3, 1, 4)\n",
    "print(\"Original Tensor x:\\n\", x)\n",
    "print(f\"x.shape: {x.shape}\\n\")  # (1, 3, 1, 4)\n",
    "\n",
    "# (2) squeeze()를 사용하여 크기를 줄이기\n",
    "# - squeeze()는 크기가 1인 차원을 제거함\n",
    "# - (1, 3, 1, 4) -> (3, 4) (차원 0과 2가 제거됨)\n",
    "x_squeezed = x.squeeze()\n",
    "print(\"Squeezed Tensor x_squeezed:\\n\", x_squeezed)\n",
    "print(f\"x_squeezed.shape: {x_squeezed.shape}\\n\")  # (3, 4)\n",
    "\n",
    "# (3) unsqueeze()를 사용하여 특정 차원에 새 차원 추가\n",
    "# - unsqueeze(dim=1)은 지정한 위치(dim=1)에 차원을 추가\n",
    "# - (3, 4) -> (3, 1, 4) (차원 1이 추가됨)\n",
    "x_unsqueezed = x_squeezed.unsqueeze(1)\n",
    "print(\"Unsqueezed Tensor x_unsqueezed:\\n\", x_unsqueezed)\n",
    "print(f\"x_unsqueezed.shape: {x_unsqueezed.shape}\")  # (3, 1, 4)"
   ],
   "id": "58d642c8d202730d",
   "outputs": [
    {
     "name": "stdout",
     "output_type": "stream",
     "text": [
      "Original Tensor x:\n",
      " tensor([[[[0.5273, 0.5216, 0.6979, 0.0157]],\n",
      "\n",
      "         [[0.8828, 0.6014, 0.5529, 0.9094]],\n",
      "\n",
      "         [[0.9786, 0.8607, 0.2913, 0.9068]]]])\n",
      "x.shape: torch.Size([1, 3, 1, 4])\n",
      "\n",
      "Squeezed Tensor x_squeezed:\n",
      " tensor([[0.5273, 0.5216, 0.6979, 0.0157],\n",
      "        [0.8828, 0.6014, 0.5529, 0.9094],\n",
      "        [0.9786, 0.8607, 0.2913, 0.9068]])\n",
      "x_squeezed.shape: torch.Size([3, 4])\n",
      "\n",
      "Unsqueezed Tensor x_unsqueezed:\n",
      " tensor([[[0.5273, 0.5216, 0.6979, 0.0157]],\n",
      "\n",
      "        [[0.8828, 0.6014, 0.5529, 0.9094]],\n",
      "\n",
      "        [[0.9786, 0.8607, 0.2913, 0.9068]]])\n",
      "x_unsqueezed.shape: torch.Size([3, 1, 4])\n"
     ]
    }
   ],
   "execution_count": 88
  },
  {
   "metadata": {
    "ExecuteTime": {
     "end_time": "2025-03-14T06:59:55.978539Z",
     "start_time": "2025-03-14T06:59:55.958020Z"
    }
   },
   "cell_type": "code",
   "source": [
    "# 📌 문제 3: torch.cat()과 torch.stack()의 차이를 확인하세요.\n",
    "# (1) 크기가 (2,3)인 두 개의 텐서를 만드세요.\n",
    "# (1) 크기가 (2,3)인 두 개의 랜덤 텐서 생성\n",
    "t1 = torch.rand(2, 3)\n",
    "t2 = torch.rand(2, 3)\n",
    "\n",
    "print(f\"t1:\\n{t1}\")\n",
    "print(f\"t1.shape: {t1.shape}\\n\")\n",
    "\n",
    "print(f\"t2:\\n{t2}\")\n",
    "print(f\"t2.shape: {t2.shape}\\n\")\n",
    "\n",
    "# (2) torch.cat()을 이용하여 dim=0 방향으로 연결\n",
    "# - 기존 차원을 유지하면서 두 텐서를 연결\n",
    "# - (2,3) + (2,3) -> (4,3)\n",
    "tc = torch.cat((t1, t2), dim=0)\n",
    "print(f\"tc (Concatenated Tensor using torch.cat()):\\n{tc}\")\n",
    "print(f\"tc.shape: {tc.shape}\\n\")  # (4, 3)\n",
    "\n",
    "# (3) torch.stack()을 이용하여 dim=0 방향으로 스택\n",
    "# - 새로운 차원을 추가하여 두 텐서를 쌓음\n",
    "# - (2,3), (2,3) -> (2,2,3)\n",
    "ts = torch.stack((t1, t2), dim=0)\n",
    "print(f\"ts (Stacked Tensor using torch.stack()):\\n{ts}\")\n",
    "print(f\"ts.shape: {ts.shape}\\n\")  # (2, 2, 3)"
   ],
   "id": "dae1b95eec2b8a6a",
   "outputs": [
    {
     "name": "stdout",
     "output_type": "stream",
     "text": [
      "t1:\n",
      "tensor([[0.0200, 0.2132, 0.0360],\n",
      "        [0.9555, 0.0060, 0.7800]])\n",
      "t1.shape: torch.Size([2, 3])\n",
      "\n",
      "t2:\n",
      "tensor([[0.3882, 0.7285, 0.6654],\n",
      "        [0.9849, 0.7056, 0.1483]])\n",
      "t2.shape: torch.Size([2, 3])\n",
      "\n",
      "tc (Concatenated Tensor using torch.cat()):\n",
      "tensor([[0.0200, 0.2132, 0.0360],\n",
      "        [0.9555, 0.0060, 0.7800],\n",
      "        [0.3882, 0.7285, 0.6654],\n",
      "        [0.9849, 0.7056, 0.1483]])\n",
      "tc.shape: torch.Size([4, 3])\n",
      "\n",
      "ts (Stacked Tensor using torch.stack()):\n",
      "tensor([[[0.0200, 0.2132, 0.0360],\n",
      "         [0.9555, 0.0060, 0.7800]],\n",
      "\n",
      "        [[0.3882, 0.7285, 0.6654],\n",
      "         [0.9849, 0.7056, 0.1483]]])\n",
      "ts.shape: torch.Size([2, 2, 3])\n",
      "\n"
     ]
    }
   ],
   "execution_count": 62
  },
  {
   "metadata": {
    "ExecuteTime": {
     "end_time": "2025-03-14T07:02:52.761970Z",
     "start_time": "2025-03-14T07:02:52.747002Z"
    }
   },
   "cell_type": "code",
   "source": [
    "# 📌 문제 4: torch.index_select()를 이용해 특정 행/열을 선택하세요.\n",
    "# (1) 크기가 (4,4)인 랜덤 텐서를 생성하세요.\n",
    "# (1) (4,4) 크기의 랜덤 텐서 생성\n",
    "x = torch.randn(4, 4)  # 평균이 0이고 표준편차가 1인 정규분포에서 무작위 값 생성\n",
    "print(\"Original Tensor x:\\n\", x)\n",
    "print(f\"x.shape: {x.shape}\\n\")  # (4, 4) 크기의 텐서\n",
    "\n",
    "# (2) 첫 번째 열(인덱스 0)과 세 번째 열(인덱스 2)을 선택하여 새로운 텐서 생성\n",
    "index = torch.tensor([0, 2])  # 선택할 열의 인덱스를 정의\n",
    "\n",
    "# torch.index_select()를 사용하여 특정 열 선택\n",
    "# dim=1: 열 기준으로 선택\n",
    "s_columns = torch.index_select(x, dim=1, index=index)\n",
    "\n",
    "print(\"Selected Columns:\\n\", s_columns)\n",
    "print(f\"s_columns.shape: {s_columns.shape}\")  # (4, 2) 크기의 텐서 (4행 2열)"
   ],
   "id": "2ba6b31e3b8b6ffc",
   "outputs": [
    {
     "name": "stdout",
     "output_type": "stream",
     "text": [
      "Original Tensor x:\n",
      " tensor([[ 1.2266,  0.4670,  0.7922,  0.1611],\n",
      "        [-0.3993,  1.1065,  0.6036, -0.5090],\n",
      "        [ 1.4561,  0.0553,  0.1083,  0.0616],\n",
      "        [-0.6858, -0.6989,  0.3336,  1.9106]])\n",
      "x.shape: torch.Size([4, 4])\n",
      "\n",
      "Selected Columns:\n",
      " tensor([[ 1.2266,  0.7922],\n",
      "        [-0.3993,  0.6036],\n",
      "        [ 1.4561,  0.1083],\n",
      "        [-0.6858,  0.3336]])\n",
      "s_columns.shape: torch.Size([4, 2])\n"
     ]
    }
   ],
   "execution_count": 71
  },
  {
   "metadata": {
    "ExecuteTime": {
     "end_time": "2025-03-14T07:00:07.280884Z",
     "start_time": "2025-03-14T07:00:07.261884Z"
    }
   },
   "cell_type": "code",
   "source": [
    "# 📌 문제 5: torch.topk()와 masked_fill()을 조합하여\n",
    "# 특정 조건을 만족하는 값을 변경하세요.\n",
    "# (1) 크기가 (3,5)인 랜덤 텐서를 생성하세요.\n",
    "# (3,5) 크기의 랜덤 텐서 생성\n",
    "x = torch.randn(3, 5)  # 평균이 0이고 표준편차가 1인 정규분포에서 값 생성\n",
    "print(\"Original Tensor x:\\n\", x)\n",
    "print(f\"x.shape: {x.shape}\\n\")\n",
    "\n",
    "# (2) 각 행에서 상위 3개의 값만 유지하고 나머지는 0으로 채우세요.\n",
    "# torch.topk()는 각 행에서 가장 큰 k개의 값을 반환\n",
    "# dim=1: 각 행에 대해 상위 k개 값 찾기, k=3\n",
    "topk_values, topk_indices = torch.topk(x, k=3, dim=1)\n",
    "\n",
    "# topk_values는 각 행의 상위 3개 값이 담긴 텐서, topk_indices는 해당 값들의 인덱스\n",
    "print(\"Top 3 values (per row):\\n\", topk_values)\n",
    "print(\"Top 3 indices (per row):\\n\", topk_indices)\n",
    "\n",
    "# (3) masked_fill()을 이용하여 상위 3개를 제외한 값은 0으로 채우기\n",
    "# 1. 텐서 x에서 상위 3개의 값의 인덱스를 찾아 0이 아닌 값으로 마스크 생성\n",
    "mask = torch.zeros_like(x).scatter_(1, topk_indices, 1)\n",
    "\n",
    "# 2. masked_fill()을 사용하여 마스크가 0인 부분을 0으로 채움\n",
    "x_filtered = x * mask\n",
    "print(\"Filtered Tensor (Top 3 values retained, others set to 0):\\n\", x_filtered)"
   ],
   "id": "12b7ad406e1bc2b5",
   "outputs": [
    {
     "name": "stdout",
     "output_type": "stream",
     "text": [
      "Original Tensor x:\n",
      " tensor([[ 0.3906, -0.4124, -0.6856,  0.8934,  0.2775],\n",
      "        [-0.5318, -0.6485, -0.6046, -0.8708, -0.1472],\n",
      "        [-0.0507, -2.6268,  0.1717, -0.9101,  1.0915]])\n",
      "x.shape: torch.Size([3, 5])\n",
      "\n",
      "Top 3 values (per row):\n",
      " tensor([[ 0.8934,  0.3906,  0.2775],\n",
      "        [-0.1472, -0.5318, -0.6046],\n",
      "        [ 1.0915,  0.1717, -0.0507]])\n",
      "Top 3 indices (per row):\n",
      " tensor([[3, 0, 4],\n",
      "        [4, 0, 2],\n",
      "        [4, 2, 0]])\n",
      "Filtered Tensor (Top 3 values retained, others set to 0):\n",
      " tensor([[ 0.3906, -0.0000, -0.0000,  0.8934,  0.2775],\n",
      "        [-0.5318, -0.0000, -0.6046, -0.0000, -0.1472],\n",
      "        [-0.0507, -0.0000,  0.1717, -0.0000,  1.0915]])\n"
     ]
    }
   ],
   "execution_count": 64
  },
  {
   "metadata": {
    "ExecuteTime": {
     "end_time": "2025-03-14T07:09:18.477231Z",
     "start_time": "2025-03-14T07:09:18.451236Z"
    }
   },
   "cell_type": "code",
   "source": [
    "# 📌 문제 6: torch.randperm()을 이용하여 데이터를 랜덤하게 섞은 후,\n",
    "# torch.chunk()로 나누세요.\n",
    "# (1) 10개의 원소를 가진 텐서를 0~9까지 숫자로 채우세요.\n",
    "x = torch.arange(10)\n",
    "print(\"Original Tensor x:\\n\", x)\n",
    "print(f\"x.shape: {x.shape}\\n\")\n",
    "\n",
    "# (2) `torch.randperm()`을 사용하여 무작위로 섞으세요.\n",
    "shuffled_x = x[torch.randperm(10)]\n",
    "print(\"Shuffled Tensor:\\n\", shuffled_x)\n",
    "print(f\"shuffled_x.shape: {shuffled_x.shape}\\n\")\n",
    "\n",
    "# (3) `torch.chunk()`를 사용하여 2개의 부분으로 나누세요.\n",
    "chunks = torch.chunk(shuffled_x, 2)  # shuffled_x를 2개의 부분으로 나누기\n",
    "print(\"Chunks:\")\n",
    "for i, chunk in enumerate(chunks):\n",
    "    print(f\"Chunk {i+1}:\\n\", chunk)"
   ],
   "id": "522007b6e0696770",
   "outputs": [
    {
     "name": "stdout",
     "output_type": "stream",
     "text": [
      "Original Tensor x:\n",
      " tensor([0, 1, 2, 3, 4, 5, 6, 7, 8, 9])\n",
      "x.shape: torch.Size([10])\n",
      "\n",
      "Shuffled Tensor:\n",
      " tensor([9, 8, 1, 5, 2, 6, 0, 3, 7, 4])\n",
      "shuffled_x.shape: torch.Size([10])\n",
      "\n",
      "Chunks:\n",
      "Chunk 1:\n",
      " tensor([9, 8, 1, 5, 2])\n",
      "Chunk 2:\n",
      " tensor([6, 0, 3, 7, 4])\n"
     ]
    }
   ],
   "execution_count": 73
  },
  {
   "metadata": {
    "ExecuteTime": {
     "end_time": "2025-03-14T07:01:48.233235Z",
     "start_time": "2025-03-14T07:01:48.221237Z"
    }
   },
   "cell_type": "code",
   "source": [
    "# 📌 문제 7: expand()를 사용하여 텐서 크기를 확장하세요.\n",
    "# (1) 크기가 (1, 3)인 텐서를 생성하세요.\n",
    "x = torch.randn(1, 3)  # 랜덤한 값으로 (1, 3) 크기의 텐서 생성\n",
    "print(\"Original Tensor x:\\n\", x)\n",
    "print(f\"x.shape: {x.shape}\\n\")  # (1, 3)\n",
    "\n",
    "# (2) `expand()`를 사용하여 (5, 3) 크기로 확장하세요.\n",
    "# expand()는 텐서를 복제하는 것이 아니라 메모리 상에서 크기를 확장합니다.\n",
    "y = x.expand(5, 3)  # x를 (5, 3) 크기로 확장\n",
    "print(\"Expanded Tensor y:\\n\", y)\n",
    "print(f\"y.shape: {y.shape}\\n\")  # (5, 3)"
   ],
   "id": "51d2c8ba9cc7f4fb",
   "outputs": [
    {
     "name": "stdout",
     "output_type": "stream",
     "text": [
      "Original Tensor x:\n",
      " tensor([[-0.3309, -1.8647, -0.4908]])\n",
      "x.shape: torch.Size([1, 3])\n",
      "\n",
      "Expanded Tensor y:\n",
      " tensor([[-0.3309, -1.8647, -0.4908],\n",
      "        [-0.3309, -1.8647, -0.4908],\n",
      "        [-0.3309, -1.8647, -0.4908],\n",
      "        [-0.3309, -1.8647, -0.4908],\n",
      "        [-0.3309, -1.8647, -0.4908]])\n",
      "y.shape: torch.Size([5, 3])\n",
      "\n"
     ]
    }
   ],
   "execution_count": 66
  },
  {
   "metadata": {
    "ExecuteTime": {
     "end_time": "2025-03-14T07:20:17.787740Z",
     "start_time": "2025-03-14T07:20:17.773739Z"
    }
   },
   "cell_type": "code",
   "source": [
    "# 📌 문제 8: split()과 chunk()의 차이를 이해하세요.\n",
    "#\n",
    "# (1) 크기가 (10,)인 1D 텐서를 생성하세요.\n",
    "x = torch.arange(10)\n",
    "print(\"원본 텐서:\", x)\n",
    "\n",
    "# (2) `split()`을 사용하여 3개의 텐서로 나누세요.\n",
    "split_result = torch.split(x, [3, 3, 4])\n",
    "print(\"split() 결과:\", split_result)\n",
    "\n",
    "# (3) `chunk()`을 사용하여 3개의 텐서로 나누세요.\n",
    "chunk_result = torch.chunk(x, chunks=3)\n",
    "print(\"chunk() 결과:\", chunk_result)"
   ],
   "id": "51450f63118a0d9d",
   "outputs": [
    {
     "name": "stdout",
     "output_type": "stream",
     "text": [
      "원본 텐서: tensor([0, 1, 2, 3, 4, 5, 6, 7, 8, 9])\n",
      "split() 결과: (tensor([0, 1, 2]), tensor([3, 4, 5]), tensor([6, 7, 8, 9]))\n",
      "chunk() 결과: (tensor([0, 1, 2, 3]), tensor([4, 5, 6, 7]), tensor([8, 9]))\n"
     ]
    }
   ],
   "execution_count": 82
  },
  {
   "metadata": {
    "ExecuteTime": {
     "end_time": "2025-03-14T07:20:19.536844Z",
     "start_time": "2025-03-14T07:20:19.525844Z"
    }
   },
   "cell_type": "code",
   "source": [
    "# 📌 문제 9: masked_fill()을 사용하여 특정 조건을 만족하는 요소를 변경하세요.\n",
    "# (1) 크기가 (3, 3)인 랜덤 텐서를 생성하세요.\n",
    "x = torch.rand(3, 3)\n",
    "print(\"Original Tensor x:\\n\", x)\n",
    "\n",
    "# (2) 값이 0.5보다 작은 요소를 -1로 변경하세요.\n",
    "mask = x < 0.5  # 0.5보다 작은 값에 대해 True인 마스크 생성\n",
    "x.masked_fill_(mask, -1)  # 마스크에 해당하는 값을 -1로 변경\n",
    "print(\"Modified Tensor x:\\n\", x)"
   ],
   "id": "db434bc0f996a25d",
   "outputs": [
    {
     "name": "stdout",
     "output_type": "stream",
     "text": [
      "Original Tensor x:\n",
      " tensor([[0.0287, 0.7026, 0.2913],\n",
      "        [0.0285, 0.2672, 0.4935],\n",
      "        [0.6793, 0.7336, 0.9763]])\n",
      "Modified Tensor x:\n",
      " tensor([[-1.0000,  0.7026, -1.0000],\n",
      "        [-1.0000, -1.0000, -1.0000],\n",
      "        [ 0.6793,  0.7336,  0.9763]])\n"
     ]
    }
   ],
   "execution_count": 83
  },
  {
   "metadata": {
    "ExecuteTime": {
     "end_time": "2025-03-14T07:21:30.658833Z",
     "start_time": "2025-03-14T07:21:30.644757Z"
    }
   },
   "cell_type": "code",
   "source": [
    "# 📌 문제 10: torch.index_select()를 이용하여 특정 행을 선택하세요.\n",
    "# (1) 크기가 (5, 4)인 랜덤 텐서를 생성하세요.\n",
    "x = torch.rand(5, 4)\n",
    "print(\"Original Tensor x:\\n\", x)\n",
    "\n",
    "# (2) 두 번째와 네 번째 행만 선택하세요.\n",
    "indices = torch.tensor([1, 3])  # 두 번째(1)와 네 번째(3) 행을 선택\n",
    "selected_rows = torch.index_select(x, dim=0, index=indices)  # 행 선택\n",
    "print(\"Selected Rows:\\n\", selected_rows)"
   ],
   "id": "92f8a5f63f5b5172",
   "outputs": [
    {
     "name": "stdout",
     "output_type": "stream",
     "text": [
      "Original Tensor x:\n",
      " tensor([[0.9492, 0.9942, 0.2774, 0.5485],\n",
      "        [0.8533, 0.9286, 0.8313, 0.7795],\n",
      "        [0.3764, 0.9364, 0.6860, 0.7413],\n",
      "        [0.1099, 0.0583, 0.8902, 0.1953],\n",
      "        [0.6952, 0.2392, 0.5410, 0.1727]])\n",
      "Selected Rows:\n",
      " tensor([[0.8533, 0.9286, 0.8313, 0.7795],\n",
      "        [0.1099, 0.0583, 0.8902, 0.1953]])\n"
     ]
    }
   ],
   "execution_count": 86
  }
 ],
 "metadata": {
  "kernelspec": {
   "display_name": "Python 3",
   "language": "python",
   "name": "python3"
  },
  "language_info": {
   "codemirror_mode": {
    "name": "ipython",
    "version": 2
   },
   "file_extension": ".py",
   "mimetype": "text/x-python",
   "name": "python",
   "nbconvert_exporter": "python",
   "pygments_lexer": "ipython2",
   "version": "2.7.6"
  }
 },
 "nbformat": 4,
 "nbformat_minor": 5
}
